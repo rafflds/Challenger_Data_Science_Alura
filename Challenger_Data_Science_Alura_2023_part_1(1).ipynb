{
  "nbformat": 4,
  "nbformat_minor": 0,
  "metadata": {
    "colab": {
      "provenance": [],
      "include_colab_link": true
    },
    "kernelspec": {
      "name": "python3",
      "display_name": "Python 3"
    },
    "language_info": {
      "name": "python"
    }
  },
  "cells": [
    {
      "cell_type": "markdown",
      "metadata": {
        "id": "view-in-github",
        "colab_type": "text"
      },
      "source": [
        "<a href=\"https://colab.research.google.com/github/rafflds/Challenger_Data_Science_Alura/blob/main/Challenger_Data_Science_Alura_2023_part_1(1).ipynb\" target=\"_parent\"><img src=\"https://colab.research.google.com/assets/colab-badge.svg\" alt=\"Open In Colab\"/></a>"
      ]
    },
    {
      "cell_type": "markdown",
      "source": [
        "# <font color=blue>Material de Referência\n",
        "\n",
        "* https://sparkbyexamples.com/pyspark/pyspark-where-filter/"
      ],
      "metadata": {
        "id": "AHSvg-VugOsT"
      }
    },
    {
      "cell_type": "markdown",
      "source": [
        "## <font color=teal>Instalando e importando Pyspark"
      ],
      "metadata": {
        "id": "fBTGX3fAUR3t"
      }
    },
    {
      "cell_type": "code",
      "source": [
        "pip install pyspark"
      ],
      "metadata": {
        "colab": {
          "base_uri": "https://localhost:8080/"
        },
        "id": "RJaDXCGgUJyS",
        "outputId": "23d7b8fc-24c9-40e0-f159-923518cde60a"
      },
      "execution_count": null,
      "outputs": [
        {
          "output_type": "stream",
          "name": "stdout",
          "text": [
            "Looking in indexes: https://pypi.org/simple, https://us-python.pkg.dev/colab-wheels/public/simple/\n",
            "Collecting pyspark\n",
            "  Downloading pyspark-3.3.2.tar.gz (281.4 MB)\n",
            "\u001b[2K     \u001b[90m━━━━━━━━━━━━━━━━━━━━━━━━━━━━━━━━━━━━━━━\u001b[0m \u001b[32m281.4/281.4 MB\u001b[0m \u001b[31m5.4 MB/s\u001b[0m eta \u001b[36m0:00:00\u001b[0m\n",
            "\u001b[?25h  Preparing metadata (setup.py) ... \u001b[?25l\u001b[?25hdone\n",
            "Collecting py4j==0.10.9.5\n",
            "  Downloading py4j-0.10.9.5-py2.py3-none-any.whl (199 kB)\n",
            "\u001b[2K     \u001b[90m━━━━━━━━━━━━━━━━━━━━━━━━━━━━━━━━━━━━━━\u001b[0m \u001b[32m199.7/199.7 KB\u001b[0m \u001b[31m25.9 MB/s\u001b[0m eta \u001b[36m0:00:00\u001b[0m\n",
            "\u001b[?25hBuilding wheels for collected packages: pyspark\n",
            "  Building wheel for pyspark (setup.py) ... \u001b[?25l\u001b[?25hdone\n",
            "  Created wheel for pyspark: filename=pyspark-3.3.2-py2.py3-none-any.whl size=281824025 sha256=cb21ee7444b62bf0db6cb670294713efae4671e85bdebb78c4dea8ff063ee8d1\n",
            "  Stored in directory: /root/.cache/pip/wheels/6c/e3/9b/0525ce8a69478916513509d43693511463c6468db0de237c86\n",
            "Successfully built pyspark\n",
            "Installing collected packages: py4j, pyspark\n",
            "Successfully installed py4j-0.10.9.5 pyspark-3.3.2\n"
          ]
        }
      ]
    },
    {
      "cell_type": "code",
      "execution_count": null,
      "metadata": {
        "id": "ycNtFusbTas-"
      },
      "outputs": [],
      "source": [
        "from pyspark.sql import SparkSession\n",
        "\n",
        "# Criando objeto\n",
        "SP = SparkSession.builder.appName('analise').getOrCreate()"
      ]
    },
    {
      "cell_type": "markdown",
      "source": [
        "## <font color=teal>Análise Exploratória"
      ],
      "metadata": {
        "id": "aShMJ9L3U3pL"
      }
    },
    {
      "cell_type": "code",
      "source": [
        "# Carregando dados de arquivo Json\n",
        "path = '/content/drive/MyDrive/Colab Notebooks/Spark/dataset_bruto.json'\n",
        "dados = SP.read.json(path, multiLine=True)\n",
        "dados.show()"
      ],
      "metadata": {
        "colab": {
          "base_uri": "https://localhost:8080/"
        },
        "id": "jqHuH19CTroy",
        "outputId": "faa19bad-4e02-4ef2-a8e0-bae43957e21a"
      },
      "execution_count": null,
      "outputs": [
        {
          "output_type": "stream",
          "name": "stdout",
          "text": [
            "+--------------------+--------------------+--------------------+\n",
            "|             anuncio|             imagens|             usuario|\n",
            "+--------------------+--------------------+--------------------+\n",
            "|{0, [], [16], [0]...|[{39d6282a-71f3-4...|{9d44563d-3405-4e...|\n",
            "|{0, [], [14], [0]...|[{23d2b3ab-45b0-4...|{36245be7-70fe-40...|\n",
            "|{0, [1026], [1026...|[{1da65baa-368b-4...|{9dc415d8-1397-4d...|\n",
            "|{0, [120], [120],...|[{79b542c6-49b4-4...|{9911a2df-f299-4a...|\n",
            "|{0, [3], [3], [0]...|[{e2bc497b-6510-4...|{240a7aab-12e5-40...|\n",
            "|{0, [20], [15], [...|[{2de09d46-dc0d-4...|{3c7057f5-0923-42...|\n",
            "|{3, [43], [43], [...|[{147a80d9-cd40-4...|{5a9736b5-aaa0-4a...|\n",
            "|{2, [42], [42], [...|[{35740004-063d-4...|{ec48d96a-137c-49...|\n",
            "|{0, [], [12], [0]...|[{6d3d2aec-c96f-4...|{dad7db63-e19c-44...|\n",
            "|{1, [41], [41], [...|[{3d404069-418e-4...|{a845f35f-3ab3-46...|\n",
            "|{3, [43], [43], [...|[{5b8a8de7-2088-4...|{8c8de313-45d5-4c...|\n",
            "|{0, [10], [4], [0...|[{5385da42-8276-4...|{0b1d4ee0-2bc3-4c...|\n",
            "|{0, [12], [12], [...|[{7e4c2d03-1188-4...|{d744ac23-f16e-44...|\n",
            "|{0, [17], [17], [...|[{db608e30-f3e0-4...|{edc3fcf6-4441-40...|\n",
            "|{1, [32], [32], [...|[{318d4e40-f759-4...|{84dfa72e-10dd-48...|\n",
            "|{0, [], [10], [0]...|[{9e39e46f-59f8-4...|{fc1d2b73-9d29-4c...|\n",
            "|{2, [43], [43], [...|[{3fe1c1cc-7a9c-4...|{7f2de69f-68f8-40...|\n",
            "|{3, [43], [43], [...|[{fd04f07d-cfdf-4...|{12ce772e-4aac-46...|\n",
            "|{3, [43], [43], [...|[{76f97b59-a61b-4...|{cc17fc2c-6be2-4e...|\n",
            "|{3, [43], [43], [...|[{95d9678e-491f-4...|{286649de-3099-4c...|\n",
            "+--------------------+--------------------+--------------------+\n",
            "only showing top 20 rows\n",
            "\n"
          ]
        }
      ]
    },
    {
      "cell_type": "markdown",
      "source": [
        "**Visualizando a estrutura do json**"
      ],
      "metadata": {
        "id": "RTsfuHx8XErr"
      }
    },
    {
      "cell_type": "code",
      "source": [
        "dados.printSchema()"
      ],
      "metadata": {
        "colab": {
          "base_uri": "https://localhost:8080/"
        },
        "id": "b54laY_-VSSK",
        "outputId": "0a45e16d-2177-4797-d218-2f25d8cea98e"
      },
      "execution_count": null,
      "outputs": [
        {
          "output_type": "stream",
          "name": "stdout",
          "text": [
            "root\n",
            " |-- anuncio: struct (nullable = true)\n",
            " |    |-- andar: long (nullable = true)\n",
            " |    |-- area_total: array (nullable = true)\n",
            " |    |    |-- element: string (containsNull = true)\n",
            " |    |-- area_util: array (nullable = true)\n",
            " |    |    |-- element: string (containsNull = true)\n",
            " |    |-- banheiros: array (nullable = true)\n",
            " |    |    |-- element: long (containsNull = true)\n",
            " |    |-- caracteristicas: array (nullable = true)\n",
            " |    |    |-- element: string (containsNull = true)\n",
            " |    |-- endereco: struct (nullable = true)\n",
            " |    |    |-- bairro: string (nullable = true)\n",
            " |    |    |-- cep: string (nullable = true)\n",
            " |    |    |-- cidade: string (nullable = true)\n",
            " |    |    |-- estado: string (nullable = true)\n",
            " |    |    |-- latitude: double (nullable = true)\n",
            " |    |    |-- longitude: double (nullable = true)\n",
            " |    |    |-- pais: string (nullable = true)\n",
            " |    |    |-- rua: string (nullable = true)\n",
            " |    |    |-- zona: string (nullable = true)\n",
            " |    |-- id: string (nullable = true)\n",
            " |    |-- quartos: array (nullable = true)\n",
            " |    |    |-- element: long (containsNull = true)\n",
            " |    |-- suites: array (nullable = true)\n",
            " |    |    |-- element: long (containsNull = true)\n",
            " |    |-- tipo_anuncio: string (nullable = true)\n",
            " |    |-- tipo_unidade: string (nullable = true)\n",
            " |    |-- tipo_uso: string (nullable = true)\n",
            " |    |-- vaga: array (nullable = true)\n",
            " |    |    |-- element: long (containsNull = true)\n",
            " |    |-- valores: array (nullable = true)\n",
            " |    |    |-- element: struct (containsNull = true)\n",
            " |    |    |    |-- condominio: string (nullable = true)\n",
            " |    |    |    |-- iptu: string (nullable = true)\n",
            " |    |    |    |-- tipo: string (nullable = true)\n",
            " |    |    |    |-- valor: string (nullable = true)\n",
            " |-- imagens: array (nullable = true)\n",
            " |    |-- element: struct (containsNull = true)\n",
            " |    |    |-- id: string (nullable = true)\n",
            " |    |    |-- url: string (nullable = true)\n",
            " |-- usuario: struct (nullable = true)\n",
            " |    |-- id: string (nullable = true)\n",
            " |    |-- nome: string (nullable = true)\n",
            "\n"
          ]
        }
      ]
    },
    {
      "cell_type": "markdown",
      "source": [
        "**Separando os dados que irei analisar**"
      ],
      "metadata": {
        "id": "aAAjmSlYXJ_7"
      }
    },
    {
      "cell_type": "code",
      "source": [
        "dados2 = dados.select('anuncio.*','anuncio.endereco.bairro','anuncio.endereco.zona', 'anuncio.valores.condominio',\n",
        "                      'anuncio.valores.iptu','anuncio.valores.tipo', 'anuncio.valores.valor')\n",
        "\n",
        "dados2 = dados2.drop('valores','endereco','id')\n",
        "dados2.printSchema()"
      ],
      "metadata": {
        "colab": {
          "base_uri": "https://localhost:8080/"
        },
        "id": "xdQ_enzPVgB5",
        "outputId": "50d4268c-fb44-401a-a249-e6e1ca011e81"
      },
      "execution_count": null,
      "outputs": [
        {
          "output_type": "stream",
          "name": "stdout",
          "text": [
            "root\n",
            " |-- andar: long (nullable = true)\n",
            " |-- area_total: array (nullable = true)\n",
            " |    |-- element: string (containsNull = true)\n",
            " |-- area_util: array (nullable = true)\n",
            " |    |-- element: string (containsNull = true)\n",
            " |-- banheiros: array (nullable = true)\n",
            " |    |-- element: long (containsNull = true)\n",
            " |-- caracteristicas: array (nullable = true)\n",
            " |    |-- element: string (containsNull = true)\n",
            " |-- quartos: array (nullable = true)\n",
            " |    |-- element: long (containsNull = true)\n",
            " |-- suites: array (nullable = true)\n",
            " |    |-- element: long (containsNull = true)\n",
            " |-- tipo_anuncio: string (nullable = true)\n",
            " |-- tipo_unidade: string (nullable = true)\n",
            " |-- tipo_uso: string (nullable = true)\n",
            " |-- vaga: array (nullable = true)\n",
            " |    |-- element: long (containsNull = true)\n",
            " |-- bairro: string (nullable = true)\n",
            " |-- zona: string (nullable = true)\n",
            " |-- condominio: array (nullable = true)\n",
            " |    |-- element: string (containsNull = true)\n",
            " |-- iptu: array (nullable = true)\n",
            " |    |-- element: string (containsNull = true)\n",
            " |-- tipo: array (nullable = true)\n",
            " |    |-- element: string (containsNull = true)\n",
            " |-- valor: array (nullable = true)\n",
            " |    |-- element: string (containsNull = true)\n",
            "\n"
          ]
        }
      ]
    },
    {
      "cell_type": "markdown",
      "source": [
        "**Visualizando os dados**"
      ],
      "metadata": {
        "id": "iXlQSmvoXSNT"
      }
    },
    {
      "cell_type": "code",
      "source": [
        "dados2.show(10, False)"
      ],
      "metadata": {
        "colab": {
          "base_uri": "https://localhost:8080/"
        },
        "id": "Rojp4vrmWUGi",
        "outputId": "ee74c3a9-4f35-4993-c4e0-592d28ced388"
      },
      "execution_count": null,
      "outputs": [
        {
          "output_type": "stream",
          "name": "stdout",
          "text": [
            "+-----+----------+---------+---------+-------------------------------------------------------------------------------------------------------------------------------+-------+------+------------+------------+-----------+----+--------------+------------+----------+------+-------+-------+\n",
            "|andar|area_total|area_util|banheiros|caracteristicas                                                                                                                |quartos|suites|tipo_anuncio|tipo_unidade|tipo_uso   |vaga|bairro        |zona        |condominio|iptu  |tipo   |valor  |\n",
            "+-----+----------+---------+---------+-------------------------------------------------------------------------------------------------------------------------------+-------+------+------------+------------+-----------+----+--------------+------------+----------+------+-------+-------+\n",
            "|0    |[]        |[16]     |[0]      |[]                                                                                                                             |[0]    |[0]   |Usado       |Outros      |Comercial  |[1] |Centro        |Zona Central|[260]     |[107] |[Venda]|[10000]|\n",
            "|0    |[]        |[14]     |[0]      |[]                                                                                                                             |[0]    |[]    |Usado       |Outros      |Comercial  |[0] |Centro        |Zona Central|[260]     |[107] |[Venda]|[10000]|\n",
            "|0    |[1026]    |[1026]   |[0]      |[]                                                                                                                             |[0]    |[]    |Usado       |Outros      |Comercial  |[0] |Maria da Graça|Zona Norte  |[null]    |[1613]|[Venda]|[10000]|\n",
            "|0    |[120]     |[120]    |[0]      |[Portão eletrônico, Condomínio fechado]                                                                                        |[0]    |[]    |Usado       |Outros      |Residencial|[]  |Campo Grande  |Zona Oeste  |[80]      |[null]|[Venda]|[10000]|\n",
            "|0    |[3]       |[3]      |[0]      |[]                                                                                                                             |[0]    |[]    |Usado       |Outros      |Residencial|[]  |São Cristóvão |Zona Norte  |[0]       |[0]   |[Venda]|[5000] |\n",
            "|0    |[20]      |[15]     |[1]      |[]                                                                                                                             |[0]    |[]    |Usado       |Outros      |Comercial  |[1] |Centro        |Zona Central|[223]     |[87]  |[Venda]|[18500]|\n",
            "|3    |[43]      |[43]     |[1]      |[Academia, Churrasqueira, Playground, Salão de festas, Condomínio fechado, Portão eletrônico, Portaria 24h, Animais permitidos]|[2]    |[]    |Usado       |Apartamento |Residencial|[1] |Paciência     |Zona Oeste  |[245]     |[null]|[Venda]|[15000]|\n",
            "|2    |[42]      |[42]     |[1]      |[Churrasqueira, Playground, Salão de festas, Condomínio fechado, Portão eletrônico, Portaria 24h, Animais permitidos]          |[2]    |[]    |Usado       |Apartamento |Residencial|[1] |Paciência     |Zona Oeste  |[0]       |[0]   |[Venda]|[15000]|\n",
            "|0    |[]        |[12]     |[0]      |[Portaria 24h, Elevador]                                                                                                       |[0]    |[]    |Usado       |Outros      |Comercial  |[1] |Centro        |Zona Central|[250]     |[null]|[Venda]|[20000]|\n",
            "|1    |[41]      |[41]     |[1]      |[Portaria 24h, Condomínio fechado, Playground, Salão de festas, Churrasqueira, Portão eletrônico]                              |[2]    |[]    |Usado       |Apartamento |Residencial|[1] |Guaratiba     |Zona Oeste  |[0]       |[0]   |[Venda]|[20000]|\n",
            "+-----+----------+---------+---------+-------------------------------------------------------------------------------------------------------------------------------+-------+------+------------+------------+-----------+----+--------------+------------+----------+------+-------+-------+\n",
            "only showing top 10 rows\n",
            "\n"
          ]
        }
      ]
    },
    {
      "cell_type": "markdown",
      "source": [
        "**Converta uma matriz de coluna String em String ( [agora], agora )**"
      ],
      "metadata": {
        "id": "LdjMubAuYdsM"
      }
    },
    {
      "cell_type": "code",
      "source": [
        "from pyspark.sql.functions import col, concat_ws"
      ],
      "metadata": {
        "id": "GHkd292iby6C"
      },
      "execution_count": null,
      "outputs": []
    },
    {
      "cell_type": "code",
      "source": [
        "dados2 = dados2\\\n",
        "  .withColumn(\"area_total\", concat_ws(\",\",col(\"area_total\")))\\\n",
        "  .withColumn(\"area_util\", concat_ws(\",\",col(\"area_util\")))\\\n",
        "  .withColumn(\"banheiros\", concat_ws(\",\",col(\"banheiros\")))\\\n",
        "  .withColumn(\"caracteristicas\", concat_ws(\",\",col(\"caracteristicas\")))\\\n",
        "  .withColumn(\"vaga\", concat_ws(\",\",col(\"vaga\")))\\\n",
        "  .withColumn(\"quartos\", concat_ws(\",\",col(\"quartos\")))\\\n",
        "  .withColumn(\"suites\", concat_ws(\",\",col(\"suites\")))\\\n",
        "  .withColumn(\"condominio\", concat_ws(\",\",col(\"condominio\")))\\\n",
        "  .withColumn(\"iptu\", concat_ws(\",\",col(\"iptu\")))\\\n",
        "  .withColumn(\"tipo\", concat_ws(\",\",col(\"tipo\")))\\\n",
        "  .withColumn(\"valor\", concat_ws(\",\",col(\"valor\")))\n",
        "\n",
        "dados2.printSchema()\n",
        "dados2.show(5,truncate=False)\n"
      ],
      "metadata": {
        "colab": {
          "base_uri": "https://localhost:8080/"
        },
        "id": "lfAiw0l0cPsC",
        "outputId": "dfddbbf0-c9c2-4bed-cd5e-6c10eedccb88"
      },
      "execution_count": null,
      "outputs": [
        {
          "output_type": "stream",
          "name": "stdout",
          "text": [
            "root\n",
            " |-- andar: long (nullable = true)\n",
            " |-- area_total: string (nullable = false)\n",
            " |-- area_util: string (nullable = false)\n",
            " |-- banheiros: string (nullable = false)\n",
            " |-- caracteristicas: string (nullable = false)\n",
            " |-- quartos: string (nullable = false)\n",
            " |-- suites: string (nullable = false)\n",
            " |-- tipo_anuncio: string (nullable = true)\n",
            " |-- tipo_unidade: string (nullable = true)\n",
            " |-- tipo_uso: string (nullable = true)\n",
            " |-- vaga: string (nullable = false)\n",
            " |-- bairro: string (nullable = true)\n",
            " |-- zona: string (nullable = true)\n",
            " |-- condominio: string (nullable = false)\n",
            " |-- iptu: string (nullable = false)\n",
            " |-- tipo: string (nullable = false)\n",
            " |-- valor: string (nullable = false)\n",
            "\n",
            "+-----+----------+---------+---------+------------------------------------+-------+------+------------+------------+-----------+----+--------------+------------+----------+----+-----+-----+\n",
            "|andar|area_total|area_util|banheiros|caracteristicas                     |quartos|suites|tipo_anuncio|tipo_unidade|tipo_uso   |vaga|bairro        |zona        |condominio|iptu|tipo |valor|\n",
            "+-----+----------+---------+---------+------------------------------------+-------+------+------------+------------+-----------+----+--------------+------------+----------+----+-----+-----+\n",
            "|0    |          |16       |0        |                                    |0      |0     |Usado       |Outros      |Comercial  |1   |Centro        |Zona Central|260       |107 |Venda|10000|\n",
            "|0    |          |14       |0        |                                    |0      |      |Usado       |Outros      |Comercial  |0   |Centro        |Zona Central|260       |107 |Venda|10000|\n",
            "|0    |1026      |1026     |0        |                                    |0      |      |Usado       |Outros      |Comercial  |0   |Maria da Graça|Zona Norte  |          |1613|Venda|10000|\n",
            "|0    |120       |120      |0        |Portão eletrônico,Condomínio fechado|0      |      |Usado       |Outros      |Residencial|    |Campo Grande  |Zona Oeste  |80        |    |Venda|10000|\n",
            "|0    |3         |3        |0        |                                    |0      |      |Usado       |Outros      |Residencial|    |São Cristóvão |Zona Norte  |0         |0   |Venda|5000 |\n",
            "+-----+----------+---------+---------+------------------------------------+-------+------+------------+------------+-----------+----+--------------+------------+----------+----+-----+-----+\n",
            "only showing top 5 rows\n",
            "\n"
          ]
        }
      ]
    },
    {
      "cell_type": "markdown",
      "source": [
        "**Tipo de Filtro**\n",
        "\n",
        "* tipo_uso: Residencial;\n",
        "\n",
        "* tipo_unidade: Apartamento;\n",
        "\n",
        "* tipo_anuncio: Usado.\n",
        "\n",
        "* Imóveis que estão a venda"
      ],
      "metadata": {
        "id": "0XqFihqffxnD"
      }
    },
    {
      "cell_type": "code",
      "source": [
        "dados2 = dados2.filter((dados2.tipo_uso == \"Residencial\") & (dados2.tipo_unidade  == \"Apartamento\") & (dados2.tipo == \"Venda\"))\n",
        "dados2.show()"
      ],
      "metadata": {
        "colab": {
          "base_uri": "https://localhost:8080/"
        },
        "id": "QtBQgJk5f1zy",
        "outputId": "b279b01b-8093-4e40-dd5a-b9a4e52ceb94"
      },
      "execution_count": null,
      "outputs": [
        {
          "output_type": "stream",
          "name": "stdout",
          "text": [
            "+-----+----------+---------+---------+--------------------+-------+------+------------+------------+-----------+----+--------------------+----------+----------+----+-----+-----+\n",
            "|andar|area_total|area_util|banheiros|     caracteristicas|quartos|suites|tipo_anuncio|tipo_unidade|   tipo_uso|vaga|              bairro|      zona|condominio|iptu| tipo|valor|\n",
            "+-----+----------+---------+---------+--------------------+-------+------+------------+------------+-----------+----+--------------------+----------+----------+----+-----+-----+\n",
            "|    3|        43|       43|        1|Academia,Churrasq...|      2|  null|       Usado| Apartamento|Residencial|   1|           Paciência|Zona Oeste|       245|    |Venda|15000|\n",
            "|    2|        42|       42|        1|Churrasqueira,Pla...|      2|  null|       Usado| Apartamento|Residencial|   1|           Paciência|Zona Oeste|         0|   0|Venda|15000|\n",
            "|    1|        41|       41|        1|Portaria 24h,Cond...|      2|  null|       Usado| Apartamento|Residencial|   1|           Guaratiba|Zona Oeste|         0|   0|Venda|20000|\n",
            "|    3|        43|       43|        1|Churrasqueira,Pis...|      2|  null|       Usado| Apartamento|Residencial|   0|              Cosmos|Zona Oeste|       285|    |Venda|20000|\n",
            "|    2|        43|       43|        1|Academia,Churrasq...|      2|  null|       Usado| Apartamento|Residencial|   1|           Guaratiba|Zona Oeste|       245|    |Venda|15000|\n",
            "|    3|        43|       43|        1|Churrasqueira,Pis...|      2|     0|       Usado| Apartamento|Residencial|   0|              Cosmos|Zona Oeste|       285|    |Venda|20000|\n",
            "|    3|        43|       43|        1|Churrasqueira,Pla...|      2|  null|       Usado| Apartamento|Residencial|   1|           Paciência|Zona Oeste|       250|    |Venda|15000|\n",
            "|    3|        43|       43|        1|Churrasqueira,Pla...|      2|     0|       Usado| Apartamento|Residencial|   1|           Guaratiba|Zona Oeste|       245|    |Venda|15000|\n",
            "|    3|        43|       43|        1|Churrasqueira,Pla...|      2|     0|       Usado| Apartamento|Residencial|   1|           Paciência|Zona Oeste|       245|    |Venda|15000|\n",
            "|    4|        43|       43|        1|Churrasqueira,Pla...|      2|  null|       Usado| Apartamento|Residencial|   1|           Guaratiba|Zona Oeste|       240|    |Venda|17999|\n",
            "|    0|        60|       60|        1|  Condomínio fechado|      2|  null|       Usado| Apartamento|Residencial|   1|  Pedra de Guaratiba|Zona Oeste|         0|   0|Venda|15000|\n",
            "|    1|        43|       43|        1|Churrasqueira,Pla...|      2|  null|       Usado| Apartamento|Residencial|   1|              Cosmos|Zona Oeste|       240|   0|Venda|19999|\n",
            "|    0|        43|       43|        1|Churrasqueira,Pla...|      2|     0|       Usado| Apartamento|Residencial|   0|        Campo Grande|Zona Oeste|       245|    |Venda|19999|\n",
            "|    2|        43|       43|        1|Academia,Churrasq...|      2|  null|       Usado| Apartamento|Residencial|   2|          Santa Cruz|Zona Oeste|       290|    |Venda|25000|\n",
            "|    3|        43|       43|        1|Salão de festas,P...|      2|  null|       Usado| Apartamento|Residencial|null|           Guaratiba|Zona Oeste|       285|    |Venda|29999|\n",
            "|    4|        55|       55|        2|Academia,Churrasq...|      2|     1|       Usado| Apartamento|Residencial|   1|Recreio dos Bande...|Zona Oeste|         0|   0|Venda|30000|\n",
            "|    0|        45|       45|        1|Playground,Piscin...|      2|     0|       Usado| Apartamento|Residencial|   1|              Cosmos|Zona Oeste|          |    |Venda|30000|\n",
            "|    5|        42|       42|        1|Condomínio fechad...|      2|     0|       Usado| Apartamento|Residencial|   0|            Realengo|Zona Oeste|       280|   0|Venda|25000|\n",
            "|    1|        43|       43|        1|Churrasqueira,Pla...|      2|  null|       Usado| Apartamento|Residencial|   1|              Cosmos|Zona Oeste|       280|    |Venda|27999|\n",
            "|    3|      null|       55|        1|Academia,Churrasq...|      2|     1|       Usado| Apartamento|Residencial|   1|     Todos os Santos|Zona Norte|         0|   0|Venda|26000|\n",
            "+-----+----------+---------+---------+--------------------+-------+------+------------+------------+-----------+----+--------------------+----------+----------+----+-----+-----+\n",
            "only showing top 20 rows\n",
            "\n"
          ]
        }
      ]
    },
    {
      "cell_type": "markdown",
      "source": [
        "**Transforme os dados das colunas**\n",
        "\n",
        "* \"quartos\", \"suites\", \"banheiros\", \"vaga\", \"area_total\" e \"area_util\" de listas para inteiros."
      ],
      "metadata": {
        "id": "PMH45duHlJKa"
      }
    },
    {
      "cell_type": "code",
      "source": [
        "dados2 = dados2\\\n",
        "  .withColumn(\"quartos\", col(\"quartos\").cast(\"Integer\"))\\\n",
        "  .withColumn(\"suites\", col(\"suites\").cast(\"Integer\"))\\\n",
        "  .withColumn(\"banheiros\", col(\"banheiros\").cast(\"Integer\"))\\\n",
        "  .withColumn(\"vaga\", col(\"vaga\").cast(\"Integer\"))\\\n",
        "  .withColumn(\"area_total\", col(\"area_total\").cast(\"Integer\"))\\\n",
        "  .withColumn(\"area_util\", col(\"area_util\").cast(\"Integer\"))\n",
        "\n",
        "dados2.printSchema()"
      ],
      "metadata": {
        "colab": {
          "base_uri": "https://localhost:8080/"
        },
        "id": "GFU9IkZklJoi",
        "outputId": "aa9ad399-5cf8-4879-c408-f16a750d94e7"
      },
      "execution_count": null,
      "outputs": [
        {
          "output_type": "stream",
          "name": "stdout",
          "text": [
            "root\n",
            " |-- andar: long (nullable = true)\n",
            " |-- area_total: integer (nullable = true)\n",
            " |-- area_util: integer (nullable = true)\n",
            " |-- banheiros: integer (nullable = true)\n",
            " |-- caracteristicas: string (nullable = false)\n",
            " |-- quartos: integer (nullable = true)\n",
            " |-- suites: integer (nullable = true)\n",
            " |-- tipo_anuncio: string (nullable = true)\n",
            " |-- tipo_unidade: string (nullable = true)\n",
            " |-- tipo_uso: string (nullable = true)\n",
            " |-- vaga: integer (nullable = true)\n",
            " |-- bairro: string (nullable = true)\n",
            " |-- zona: string (nullable = true)\n",
            " |-- condominio: string (nullable = false)\n",
            " |-- iptu: string (nullable = false)\n",
            " |-- tipo: string (nullable = false)\n",
            " |-- valor: string (nullable = false)\n",
            "\n"
          ]
        }
      ]
    },
    {
      "cell_type": "markdown",
      "source": [
        "## <font color=teal>Salvar o arquivo"
      ],
      "metadata": {
        "id": "ezPUOiPR3Eay"
      }
    },
    {
      "cell_type": "markdown",
      "source": [
        "**Salvando em Parquet**"
      ],
      "metadata": {
        "id": "3T4tUyrT3xNq"
      }
    },
    {
      "cell_type": "code",
      "source": [
        "dados2.write.parquet(\n",
        "    path='/content/drive/MyDrive/Colab Notebooks/Spark/imoveis/parquet',\n",
        "    mode='overwrite'\n",
        ")"
      ],
      "metadata": {
        "id": "fVRILP3w3Hvm"
      },
      "execution_count": null,
      "outputs": []
    },
    {
      "cell_type": "code",
      "source": [
        "%%time\n",
        "dados2 = SP.read.parquet(\n",
        "    '/content/drive/MyDrive/Colab Notebooks/Spark/imoveis/parquet'\n",
        ")"
      ],
      "metadata": {
        "colab": {
          "base_uri": "https://localhost:8080/"
        },
        "id": "e0yybSYJ411x",
        "outputId": "b32e2837-65d6-4c81-f452-7141606b383b"
      },
      "execution_count": null,
      "outputs": [
        {
          "output_type": "stream",
          "name": "stdout",
          "text": [
            "CPU times: user 3.87 ms, sys: 933 µs, total: 4.8 ms\n",
            "Wall time: 271 ms\n"
          ]
        }
      ]
    },
    {
      "cell_type": "markdown",
      "source": [
        "**Salvando em CSV**"
      ],
      "metadata": {
        "id": "synDsdG54GBR"
      }
    },
    {
      "cell_type": "code",
      "source": [
        "dados2.write.csv(\n",
        "    path='/content/drive/MyDrive/Colab Notebooks/Spark/imoveis/csv',\n",
        "    mode='overwrite',\n",
        "    sep=';',\n",
        "    header=True\n",
        ")"
      ],
      "metadata": {
        "id": "-pnQQhaZ4GMS"
      },
      "execution_count": null,
      "outputs": []
    },
    {
      "cell_type": "code",
      "source": [
        "%%time\n",
        "dados2 = SP.read.csv(\n",
        "    path='/content/drive/MyDrive/Colab Notebooks/Spark/imoveis/csv',\n",
        "    sep=';',\n",
        "    inferSchema=True,\n",
        "    header =True\n",
        ")"
      ],
      "metadata": {
        "colab": {
          "base_uri": "https://localhost:8080/"
        },
        "id": "CzKx2rrz42j5",
        "outputId": "1366bf02-ed59-4bc3-c6ab-3d1618d99470"
      },
      "execution_count": null,
      "outputs": [
        {
          "output_type": "stream",
          "name": "stdout",
          "text": [
            "CPU times: user 27.9 ms, sys: 3.64 ms, total: 31.5 ms\n",
            "Wall time: 4.1 s\n"
          ]
        }
      ]
    }
  ]
}