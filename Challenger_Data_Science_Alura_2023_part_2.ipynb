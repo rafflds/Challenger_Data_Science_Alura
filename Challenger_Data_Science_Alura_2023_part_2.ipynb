{
  "nbformat": 4,
  "nbformat_minor": 0,
  "metadata": {
    "colab": {
      "provenance": [],
      "include_colab_link": true
    },
    "kernelspec": {
      "name": "python3",
      "display_name": "Python 3"
    },
    "language_info": {
      "name": "python"
    }
  },
  "cells": [
    {
      "cell_type": "markdown",
      "metadata": {
        "id": "view-in-github",
        "colab_type": "text"
      },
      "source": [
        "<a href=\"https://colab.research.google.com/github/rafflds/Challenger_Data_Science_Alura/blob/main/Challenger_Data_Science_Alura_2023_part_2.ipynb\" target=\"_parent\"><img src=\"https://colab.research.google.com/assets/colab-badge.svg\" alt=\"Open In Colab\"/></a>"
      ]
    },
    {
      "cell_type": "markdown",
      "source": [
        "# <font color=green>Material de Referência\n",
        "\n",
        "* https://sparkbyexamples.com/pyspark/pyspark-where-filter/\n",
        "\n",
        "* https://cursos.alura.com.br/course/spark-trabalhando-regressao/task/108188"
      ],
      "metadata": {
        "id": "AHSvg-VugOsT"
      }
    },
    {
      "cell_type": "markdown",
      "source": [
        "## <font color=purple>Instalando e importando Pyspark"
      ],
      "metadata": {
        "id": "fBTGX3fAUR3t"
      }
    },
    {
      "cell_type": "code",
      "source": [
        "pip install pyspark"
      ],
      "metadata": {
        "colab": {
          "base_uri": "https://localhost:8080/"
        },
        "id": "RJaDXCGgUJyS",
        "outputId": "c63f4284-f86c-468c-87ac-5ef22f2244e8"
      },
      "execution_count": null,
      "outputs": [
        {
          "output_type": "stream",
          "name": "stdout",
          "text": [
            "Looking in indexes: https://pypi.org/simple, https://us-python.pkg.dev/colab-wheels/public/simple/\n",
            "Requirement already satisfied: pyspark in /usr/local/lib/python3.9/dist-packages (3.3.2)\n",
            "Requirement already satisfied: py4j==0.10.9.5 in /usr/local/lib/python3.9/dist-packages (from pyspark) (0.10.9.5)\n"
          ]
        }
      ]
    },
    {
      "cell_type": "code",
      "execution_count": null,
      "metadata": {
        "id": "ycNtFusbTas-"
      },
      "outputs": [],
      "source": [
        "from pyspark.sql import SparkSession\n",
        "\n",
        "# Criando objeto\n",
        "SP = SparkSession.builder.appName('analise').getOrCreate()"
      ]
    },
    {
      "cell_type": "markdown",
      "source": [
        "## <font color=purple>Análise Exploratória"
      ],
      "metadata": {
        "id": "aShMJ9L3U3pL"
      }
    },
    {
      "cell_type": "markdown",
      "source": [
        "### **Leitura da base de dados Parquet**"
      ],
      "metadata": {
        "id": "xBY0W9lZoWB0"
      }
    },
    {
      "cell_type": "code",
      "source": [
        "dados = SP.read.parquet(\n",
        "    '/content/drive/MyDrive/Colab Notebooks/Spark/imoveis/parquet'\n",
        ")\n",
        "\n",
        "dados.show(5, False)"
      ],
      "metadata": {
        "id": "bsss8dOFnSAj",
        "colab": {
          "base_uri": "https://localhost:8080/"
        },
        "outputId": "85cf988c-01ae-47c9-c301-0ad8a8d7963e"
      },
      "execution_count": null,
      "outputs": [
        {
          "output_type": "stream",
          "name": "stdout",
          "text": [
            "+-----+----------+---------+---------+----------------------------------------------------------------------------------------------------------------------+-------+------+------------+------------+-----------+----+---------+----------+----------+----+-----+-----+\n",
            "|andar|area_total|area_util|banheiros|caracteristicas                                                                                                       |quartos|suites|tipo_anuncio|tipo_unidade|tipo_uso   |vaga|bairro   |zona      |condominio|iptu|tipo |valor|\n",
            "+-----+----------+---------+---------+----------------------------------------------------------------------------------------------------------------------+-------+------+------------+------------+-----------+----+---------+----------+----------+----+-----+-----+\n",
            "|3    |43        |43       |1        |Academia,Churrasqueira,Playground,Salão de festas,Condomínio fechado,Portão eletrônico,Portaria 24h,Animais permitidos|2      |null  |Usado       |Apartamento |Residencial|1   |Paciência|Zona Oeste|245       |    |Venda|15000|\n",
            "|2    |42        |42       |1        |Churrasqueira,Playground,Salão de festas,Condomínio fechado,Portão eletrônico,Portaria 24h,Animais permitidos         |2      |null  |Usado       |Apartamento |Residencial|1   |Paciência|Zona Oeste|0         |0   |Venda|15000|\n",
            "|1    |41        |41       |1        |Portaria 24h,Condomínio fechado,Playground,Salão de festas,Churrasqueira,Portão eletrônico                            |2      |null  |Usado       |Apartamento |Residencial|1   |Guaratiba|Zona Oeste|0         |0   |Venda|20000|\n",
            "|3    |43        |43       |1        |Churrasqueira,Piscina,Playground,Salão de festas,Condomínio fechado,Portão eletrônico,Portaria 24h,Animais permitidos |2      |null  |Usado       |Apartamento |Residencial|0   |Cosmos   |Zona Oeste|285       |    |Venda|20000|\n",
            "|2    |43        |43       |1        |Academia,Churrasqueira,Playground,Salão de festas,Condomínio fechado,Portão eletrônico,Portaria 24h,Animais permitidos|2      |null  |Usado       |Apartamento |Residencial|1   |Guaratiba|Zona Oeste|245       |    |Venda|15000|\n",
            "+-----+----------+---------+---------+----------------------------------------------------------------------------------------------------------------------+-------+------+------------+------------+-----------+----+---------+----------+----------+----+-----+-----+\n",
            "only showing top 5 rows\n",
            "\n"
          ]
        }
      ]
    },
    {
      "cell_type": "markdown",
      "source": [
        "### **Seleção de Features**\n",
        "\n",
        "* Algumas colunas possuem apenas um único valor. Essas colunas estão dessa forma devido aos filtros que foram realizados na base de dados durante a semana 1. Dessa forma, nós podemos excluir essas colunas, pois como possuem apenas um valor não serão relevantes para o modelo.\n",
        "\n",
        "* Analise as colunas **area_total** e **area_util**. Essas colunas parecem ter muitos valores iguais, será necessário deixar as duas colunas no nosso DataFrame? \n",
        "\n",
        "* Qual delas possui **mais dados nulos**?"
      ],
      "metadata": {
        "id": "QZksWPKaodZs"
      }
    },
    {
      "cell_type": "code",
      "source": [
        "dados = dados.drop('tipo_unidade','tipo_anuncio','tipo_uso','tipo')\n",
        "dados.show(5)"
      ],
      "metadata": {
        "id": "__TqdxIXod_N",
        "colab": {
          "base_uri": "https://localhost:8080/"
        },
        "outputId": "8baa805a-c333-429e-e7cc-7bec484c8ebb"
      },
      "execution_count": null,
      "outputs": [
        {
          "output_type": "stream",
          "name": "stdout",
          "text": [
            "+-----+----------+---------+---------+--------------------+-------+------+----+---------+----------+----------+----+-----+\n",
            "|andar|area_total|area_util|banheiros|     caracteristicas|quartos|suites|vaga|   bairro|      zona|condominio|iptu|valor|\n",
            "+-----+----------+---------+---------+--------------------+-------+------+----+---------+----------+----------+----+-----+\n",
            "|    3|        43|       43|        1|Academia,Churrasq...|      2|  null|   1|Paciência|Zona Oeste|       245|    |15000|\n",
            "|    2|        42|       42|        1|Churrasqueira,Pla...|      2|  null|   1|Paciência|Zona Oeste|         0|   0|15000|\n",
            "|    1|        41|       41|        1|Portaria 24h,Cond...|      2|  null|   1|Guaratiba|Zona Oeste|         0|   0|20000|\n",
            "|    3|        43|       43|        1|Churrasqueira,Pis...|      2|  null|   0|   Cosmos|Zona Oeste|       285|    |20000|\n",
            "|    2|        43|       43|        1|Academia,Churrasq...|      2|  null|   1|Guaratiba|Zona Oeste|       245|    |15000|\n",
            "+-----+----------+---------+---------+--------------------+-------+------+----+---------+----------+----------+----+-----+\n",
            "only showing top 5 rows\n",
            "\n"
          ]
        }
      ]
    },
    {
      "cell_type": "markdown",
      "source": [
        "**As duas variáveis são iguais, excluir a que tiver mais valores nulos**"
      ],
      "metadata": {
        "id": "lmRimmtksihQ"
      }
    },
    {
      "cell_type": "code",
      "source": [
        "dados.select(\"area_total\",\"area_util\").show()"
      ],
      "metadata": {
        "id": "poxns-DXsWLc",
        "colab": {
          "base_uri": "https://localhost:8080/"
        },
        "outputId": "02394696-ae68-4708-f08a-7b3b5d9a9486"
      },
      "execution_count": null,
      "outputs": [
        {
          "output_type": "stream",
          "name": "stdout",
          "text": [
            "+----------+---------+\n",
            "|area_total|area_util|\n",
            "+----------+---------+\n",
            "|        43|       43|\n",
            "|        42|       42|\n",
            "|        41|       41|\n",
            "|        43|       43|\n",
            "|        43|       43|\n",
            "|        43|       43|\n",
            "|        43|       43|\n",
            "|        43|       43|\n",
            "|        43|       43|\n",
            "|        43|       43|\n",
            "|        60|       60|\n",
            "|        43|       43|\n",
            "|        43|       43|\n",
            "|        43|       43|\n",
            "|        43|       43|\n",
            "|        55|       55|\n",
            "|        45|       45|\n",
            "|        42|       42|\n",
            "|        43|       43|\n",
            "|      null|       55|\n",
            "+----------+---------+\n",
            "only showing top 20 rows\n",
            "\n"
          ]
        }
      ]
    },
    {
      "cell_type": "markdown",
      "source": [
        "**Verificar os valores null**"
      ],
      "metadata": {
        "id": "gIVqOF3px1El"
      }
    },
    {
      "cell_type": "code",
      "source": [
        "from pyspark.sql import functions as f"
      ],
      "metadata": {
        "id": "TPs4NDOeyP4D"
      },
      "execution_count": null,
      "outputs": []
    },
    {
      "cell_type": "code",
      "source": [
        "dados.select([f.count(f.when(f.isnull(c), 1)).alias(c) for c in dados.columns]).show()"
      ],
      "metadata": {
        "id": "a_0Lux6Sx1P2",
        "colab": {
          "base_uri": "https://localhost:8080/"
        },
        "outputId": "f64ead69-7c00-42e4-e1a8-c210e2df6b4f"
      },
      "execution_count": null,
      "outputs": [
        {
          "output_type": "stream",
          "name": "stdout",
          "text": [
            "+-----+----------+---------+---------+---------------+-------+------+----+------+----+----------+----+-----+\n",
            "|andar|area_total|area_util|banheiros|caracteristicas|quartos|suites|vaga|bairro|zona|condominio|iptu|valor|\n",
            "+-----+----------+---------+---------+---------------+-------+------+----+------+----+----------+----+-----+\n",
            "|    0|      9187|      126|       70|              0|    101|  5523|3030|     0|   0|         0|   0|    0|\n",
            "+-----+----------+---------+---------+---------------+-------+------+----+------+----+----------+----+-----+\n",
            "\n"
          ]
        }
      ]
    },
    {
      "cell_type": "markdown",
      "source": [
        "**Apagando variável com maior valor de nulos**"
      ],
      "metadata": {
        "id": "bJUhNFqZ5AVf"
      }
    },
    {
      "cell_type": "code",
      "source": [
        "dados = dados.drop('area_total')"
      ],
      "metadata": {
        "id": "Uhd-ZJugykpH"
      },
      "execution_count": null,
      "outputs": []
    },
    {
      "cell_type": "markdown",
      "source": [
        "### **Converter os tipos das colunas**\n",
        "\n",
        "* Podemos converter o tipo de colunas numéricas, como \"**andar**\", \"**banheiros**\", \"**suites**\" e \"**quartos**\" para o tipo **inteiro**. \n",
        "\n",
        "* Além disso também pode ser necessário converter as colunas \"**area_util**\", \"**condominio**\", \"**iptu**\" e \"**valor**\" para o tipo **double**."
      ],
      "metadata": {
        "id": "zvhI_sYOzxKu"
      }
    },
    {
      "cell_type": "code",
      "source": [
        "dados.printSchema()"
      ],
      "metadata": {
        "id": "4Rng7fYbzxdN",
        "colab": {
          "base_uri": "https://localhost:8080/"
        },
        "outputId": "6d828772-f91e-4239-f303-a416ec21b413"
      },
      "execution_count": null,
      "outputs": [
        {
          "output_type": "stream",
          "name": "stdout",
          "text": [
            "root\n",
            " |-- andar: long (nullable = true)\n",
            " |-- area_util: integer (nullable = true)\n",
            " |-- banheiros: integer (nullable = true)\n",
            " |-- caracteristicas: string (nullable = true)\n",
            " |-- quartos: integer (nullable = true)\n",
            " |-- suites: integer (nullable = true)\n",
            " |-- vaga: integer (nullable = true)\n",
            " |-- bairro: string (nullable = true)\n",
            " |-- zona: string (nullable = true)\n",
            " |-- condominio: string (nullable = true)\n",
            " |-- iptu: string (nullable = true)\n",
            " |-- valor: string (nullable = true)\n",
            "\n"
          ]
        }
      ]
    },
    {
      "cell_type": "code",
      "source": [
        "from  pyspark.sql.functions  import  col, concat_ws\n",
        "\n",
        "dados = dados\\\n",
        "  .withColumn(\"andar\", col(\"andar\").cast(\"Integer\"))\\\n",
        "  .withColumn(\"area_util\", col(\"area_util\").cast(\"Double\"))\\\n",
        "  .withColumn(\"condominio\", col(\"condominio\").cast(\"Double\"))\\\n",
        "  .withColumn(\"iptu\", col(\"iptu\").cast(\"Double\"))\\\n",
        "  .withColumn(\"valor\", col(\"valor\").cast(\"Double\"))  "
      ],
      "metadata": {
        "id": "9IuYRd5w0nU6"
      },
      "execution_count": null,
      "outputs": []
    },
    {
      "cell_type": "code",
      "source": [
        "dados.printSchema()"
      ],
      "metadata": {
        "id": "PD_XcHXG1lhD",
        "colab": {
          "base_uri": "https://localhost:8080/"
        },
        "outputId": "5af22f09-a3ed-45a0-eccc-e4eb2e1ecfd9"
      },
      "execution_count": null,
      "outputs": [
        {
          "output_type": "stream",
          "name": "stdout",
          "text": [
            "root\n",
            " |-- andar: integer (nullable = true)\n",
            " |-- area_util: double (nullable = true)\n",
            " |-- banheiros: integer (nullable = true)\n",
            " |-- caracteristicas: string (nullable = true)\n",
            " |-- quartos: integer (nullable = true)\n",
            " |-- suites: integer (nullable = true)\n",
            " |-- vaga: integer (nullable = true)\n",
            " |-- bairro: string (nullable = true)\n",
            " |-- zona: string (nullable = true)\n",
            " |-- condominio: double (nullable = true)\n",
            " |-- iptu: double (nullable = true)\n",
            " |-- valor: double (nullable = true)\n",
            "\n"
          ]
        }
      ]
    },
    {
      "cell_type": "markdown",
      "source": [
        "### **Verificar a variável características**"
      ],
      "metadata": {
        "id": "2yhazOFz2qKq"
      }
    },
    {
      "cell_type": "code",
      "source": [
        "dados.select(\"caracteristicas\").show(truncate=False)"
      ],
      "metadata": {
        "id": "jpAXOeR62uIP",
        "colab": {
          "base_uri": "https://localhost:8080/"
        },
        "outputId": "aac64e77-980c-43e9-d672-0f9d5b5a9e9c"
      },
      "execution_count": null,
      "outputs": [
        {
          "output_type": "stream",
          "name": "stdout",
          "text": [
            "+---------------------------------------------------------------------------------------------------------------------------------------+\n",
            "|caracteristicas                                                                                                                        |\n",
            "+---------------------------------------------------------------------------------------------------------------------------------------+\n",
            "|Academia,Churrasqueira,Playground,Salão de festas,Condomínio fechado,Portão eletrônico,Portaria 24h,Animais permitidos                 |\n",
            "|Churrasqueira,Playground,Salão de festas,Condomínio fechado,Portão eletrônico,Portaria 24h,Animais permitidos                          |\n",
            "|Portaria 24h,Condomínio fechado,Playground,Salão de festas,Churrasqueira,Portão eletrônico                                             |\n",
            "|Churrasqueira,Piscina,Playground,Salão de festas,Condomínio fechado,Portão eletrônico,Portaria 24h,Animais permitidos                  |\n",
            "|Academia,Churrasqueira,Playground,Salão de festas,Condomínio fechado,Portão eletrônico,Portaria 24h,Animais permitidos                 |\n",
            "|Churrasqueira,Piscina,Playground,Salão de festas,Condomínio fechado,Portaria 24h,Portão eletrônico,Animais permitidos                  |\n",
            "|Churrasqueira,Playground,Salão de festas,Condomínio fechado,Portão eletrônico,Portaria 24h,Animais permitidos                          |\n",
            "|Churrasqueira,Playground,Salão de festas,Condomínio fechado,Portão eletrônico,Animais permitidos                                       |\n",
            "|Churrasqueira,Playground,Salão de festas,Condomínio fechado,Portão eletrônico,Portaria 24h,Animais permitidos                          |\n",
            "|Churrasqueira,Playground,Salão de festas,Condomínio fechado,Portão eletrônico,Portaria 24h,Animais permitidos                          |\n",
            "|Condomínio fechado                                                                                                                     |\n",
            "|Churrasqueira,Playground,Salão de festas,Condomínio fechado,Portão eletrônico,Portaria 24h                                             |\n",
            "|Churrasqueira,Playground,Salão de festas,Condomínio fechado,Portão eletrônico,Portaria 24h,Animais permitidos                          |\n",
            "|Academia,Churrasqueira,Piscina,Playground,Salão de festas,Condomínio fechado,Portão eletrônico,Portaria 24h,Animais permitidos         |\n",
            "|Salão de festas,Playground,Condomínio fechado,Portão eletrônico,Portaria 24h,Animais permitidos                                        |\n",
            "|Academia,Churrasqueira,Piscina,Playground,Salão de festas,Elevador,Condomínio fechado,Portão eletrônico,Portaria 24h,Animais permitidos|\n",
            "|Playground,Piscina,Churrasqueira,Salão de festas,Condomínio fechado                                                                    |\n",
            "|Condomínio fechado,Portaria 24h,Salão de festas,Portão eletrônico,Animais permitidos                                                   |\n",
            "|Churrasqueira,Playground,Salão de festas,Condomínio fechado,Portão eletrônico,Portaria 24h,Animais permitidos                          |\n",
            "|Academia,Churrasqueira,Piscina,Playground,Salão de festas,Elevador,Condomínio fechado,Portão eletrônico,Portaria 24h,Animais permitidos|\n",
            "+---------------------------------------------------------------------------------------------------------------------------------------+\n",
            "only showing top 20 rows\n",
            "\n"
          ]
        }
      ]
    },
    {
      "cell_type": "markdown",
      "source": [
        "### **Tratamento de valores nulos**"
      ],
      "metadata": {
        "id": "zARx2aPk5poY"
      }
    },
    {
      "cell_type": "markdown",
      "source": [
        "**Substituir os valores nulos**"
      ],
      "metadata": {
        "id": "oqzwAhDt46o9"
      }
    },
    {
      "cell_type": "code",
      "source": [
        "dados = dados.na.fill(0)\n",
        "dados.select([f.count(f.when(f.isnull(c), 1)).alias(c) for c in dados.columns]).show()"
      ],
      "metadata": {
        "id": "gMLLOTdd4-Dz",
        "colab": {
          "base_uri": "https://localhost:8080/"
        },
        "outputId": "606f4a7e-e710-4081-d60f-e958d2779d23"
      },
      "execution_count": null,
      "outputs": [
        {
          "output_type": "stream",
          "name": "stdout",
          "text": [
            "+-----+---------+---------+---------------+-------+------+----+------+----+----------+----+-----+\n",
            "|andar|area_util|banheiros|caracteristicas|quartos|suites|vaga|bairro|zona|condominio|iptu|valor|\n",
            "+-----+---------+---------+---------------+-------+------+----+------+----+----------+----+-----+\n",
            "|    0|        0|        0|              0|      0|     0|   0|     0|   0|         0|   0|    0|\n",
            "+-----+---------+---------+---------------+-------+------+----+------+----+----------+----+-----+\n",
            "\n"
          ]
        }
      ]
    },
    {
      "cell_type": "markdown",
      "source": [
        "### **Tratamento da colunas do tipo caracteres**"
      ],
      "metadata": {
        "id": "DLndfVzqbrwe"
      }
    },
    {
      "cell_type": "code",
      "source": [
        "dados\\\n",
        "    .select('zona')\\\n",
        "    .groupBy('zona')\\\n",
        "    .count()\\\n",
        "    .show()"
      ],
      "metadata": {
        "id": "Xx93_-mHYCxJ",
        "colab": {
          "base_uri": "https://localhost:8080/"
        },
        "outputId": "c0c985df-1be0-48ae-bf29-27d7b2eae70a"
      },
      "execution_count": null,
      "outputs": [
        {
          "output_type": "stream",
          "name": "stdout",
          "text": [
            "+------------+-----+\n",
            "|        zona|count|\n",
            "+------------+-----+\n",
            "|  Zona Norte|11775|\n",
            "|  Zona Oeste|32760|\n",
            "|Zona Central| 1121|\n",
            "|    Zona Sul|20426|\n",
            "|            |   11|\n",
            "+------------+-----+\n",
            "\n"
          ]
        }
      ]
    },
    {
      "cell_type": "markdown",
      "source": [
        "**Se livra desses dados com string em branco**"
      ],
      "metadata": {
        "id": "akCW53pSd0tP"
      }
    },
    {
      "cell_type": "code",
      "source": [
        "dados = dados\\\n",
        "    .where(f.col('zona')!= '')"
      ],
      "metadata": {
        "id": "JvUQwo4ddCbf"
      },
      "execution_count": null,
      "outputs": []
    },
    {
      "cell_type": "code",
      "source": [
        "dados\\\n",
        "    .select('zona')\\\n",
        "    .groupBy('zona')\\\n",
        "    .count()\\\n",
        "    .show()"
      ],
      "metadata": {
        "id": "kG7y3rDSdjE2",
        "colab": {
          "base_uri": "https://localhost:8080/"
        },
        "outputId": "68e11785-b366-4bc5-b86a-868c98b96330"
      },
      "execution_count": null,
      "outputs": [
        {
          "output_type": "stream",
          "name": "stdout",
          "text": [
            "+------------+-----+\n",
            "|        zona|count|\n",
            "+------------+-----+\n",
            "|  Zona Norte|11775|\n",
            "|  Zona Oeste|32760|\n",
            "|Zona Central| 1121|\n",
            "|    Zona Sul|20426|\n",
            "+------------+-----+\n",
            "\n"
          ]
        }
      ]
    },
    {
      "cell_type": "markdown",
      "source": [
        "**Veficar o valores de bairro**"
      ],
      "metadata": {
        "id": "XpAWCLr8iNtf"
      }
    },
    {
      "cell_type": "markdown",
      "source": [
        "### **Preparação de dados para Machine Learning**\n",
        "\n",
        "> Para conseguirmos utilizar nossos dados em modelos de Machine Learning, é necessário realizarmos algumas técnicas, como a transformação de variáveis categóricas em binárias.\n",
        "\n",
        "* **caracteristica, zona**"
      ],
      "metadata": {
        "id": "HFW1381o6XzB"
      }
    },
    {
      "cell_type": "markdown",
      "source": [
        "### **Processo Dummy**"
      ],
      "metadata": {
        "id": "3lHdEwma6r9w"
      }
    },
    {
      "cell_type": "code",
      "source": [
        "zona = dados\\\n",
        "    .groupby('zona')\\\n",
        "    .pivot('zona')\\\n",
        "    .agg(f.lit(1))\\\n",
        "    .na\\\n",
        "    .fill(0)  \n",
        "\n",
        "zona.show()  "
      ],
      "metadata": {
        "id": "9nu8NRHJWPyV",
        "colab": {
          "base_uri": "https://localhost:8080/"
        },
        "outputId": "f1afb9eb-1b91-4663-9c91-1346b663e4f8"
      },
      "execution_count": null,
      "outputs": [
        {
          "output_type": "stream",
          "name": "stdout",
          "text": [
            "+------------+------------+----------+----------+--------+\n",
            "|        zona|Zona Central|Zona Norte|Zona Oeste|Zona Sul|\n",
            "+------------+------------+----------+----------+--------+\n",
            "|  Zona Norte|           0|         1|         0|       0|\n",
            "|  Zona Oeste|           0|         0|         1|       0|\n",
            "|Zona Central|           1|         0|         0|       0|\n",
            "|    Zona Sul|           0|         0|         0|       1|\n",
            "+------------+------------+----------+----------+--------+\n",
            "\n"
          ]
        }
      ]
    },
    {
      "cell_type": "markdown",
      "source": [
        "**Unir a transformação das string ao dataset**"
      ],
      "metadata": {
        "id": "ESkn286hkam9"
      }
    },
    {
      "cell_type": "code",
      "source": [
        "dados = dados\\\n",
        "    .join(zona, how='inner')\\\n",
        "    .drop('zona','caracteristicas', 'bairro')\n",
        "\n",
        "dados.limit(3).show()"
      ],
      "metadata": {
        "id": "qcl5CoMPhFe3",
        "colab": {
          "base_uri": "https://localhost:8080/"
        },
        "outputId": "826a21a3-f700-4640-d2f1-637cdc64c7d1"
      },
      "execution_count": null,
      "outputs": [
        {
          "output_type": "stream",
          "name": "stdout",
          "text": [
            "+-----+---------+---------+-------+------+----+----------+----+-------+------------+----------+----------+--------+\n",
            "|andar|area_util|banheiros|quartos|suites|vaga|condominio|iptu|  valor|Zona Central|Zona Norte|Zona Oeste|Zona Sul|\n",
            "+-----+---------+---------+-------+------+----+----------+----+-------+------------+----------+----------+--------+\n",
            "|    3|     43.0|        1|      2|     0|   1|     245.0| 0.0|15000.0|           0|         1|         0|       0|\n",
            "|    3|     43.0|        1|      2|     0|   1|     245.0| 0.0|15000.0|           0|         0|         1|       0|\n",
            "|    3|     43.0|        1|      2|     0|   1|     245.0| 0.0|15000.0|           1|         0|         0|       0|\n",
            "+-----+---------+---------+-------+------+----+----------+----+-------+------------+----------+----------+--------+\n",
            "\n"
          ]
        }
      ]
    },
    {
      "cell_type": "markdown",
      "source": [
        "## <font color=purple>Salvando a base de dados"
      ],
      "metadata": {
        "id": "0ZCWddztpclm"
      }
    },
    {
      "cell_type": "code",
      "source": [
        "dados.write.parquet(\n",
        "    path='/content/drive/MyDrive/Colab Notebooks/Spark/imoveis_part2/parquet',\n",
        "    mode='overwrite'\n",
        ")"
      ],
      "metadata": {
        "id": "dyJvS3Tlokw0"
      },
      "execution_count": null,
      "outputs": []
    },
    {
      "cell_type": "markdown",
      "source": [
        "## <font color=purple>Preparação o modelo Machine Learning"
      ],
      "metadata": {
        "id": "l3R9P0qOrCbG"
      }
    },
    {
      "cell_type": "code",
      "source": [
        "from pyspark.ml.feature import VectorAssembler\n",
        "\n",
        "# Mudar o nome da variável 'valor' p/ 'label'\n",
        "dados = dados.withColumnRenamed('valor','label')"
      ],
      "metadata": {
        "id": "rpt4mwwxrCxV"
      },
      "execution_count": null,
      "outputs": []
    },
    {
      "cell_type": "markdown",
      "source": [
        "**Visualizar as colunas do dataset**"
      ],
      "metadata": {
        "id": "zVPRT6JIvLqv"
      }
    },
    {
      "cell_type": "code",
      "source": [
        "dados.columns"
      ],
      "metadata": {
        "colab": {
          "base_uri": "https://localhost:8080/"
        },
        "id": "TmaHs8dBrXiW",
        "outputId": "7f9ce34c-c98e-48a3-c7ae-6b373b209c83"
      },
      "execution_count": null,
      "outputs": [
        {
          "output_type": "execute_result",
          "data": {
            "text/plain": [
              "['andar',\n",
              " 'area_util',\n",
              " 'banheiros',\n",
              " 'quartos',\n",
              " 'suites',\n",
              " 'vaga',\n",
              " 'condominio',\n",
              " 'iptu',\n",
              " 'label',\n",
              " 'Zona Central',\n",
              " 'Zona Norte',\n",
              " 'Zona Oeste',\n",
              " 'Zona Sul']"
            ]
          },
          "metadata": {},
          "execution_count": 21
        }
      ]
    },
    {
      "cell_type": "markdown",
      "source": [
        "**Salvar as variáveis em uma nova**"
      ],
      "metadata": {
        "id": "tjhl_WPBvPy0"
      }
    },
    {
      "cell_type": "code",
      "source": [
        "x = ['andar',\n",
        " 'area_util',\n",
        " 'banheiros',\n",
        " 'quartos',\n",
        " 'suites',\n",
        " 'vaga',\n",
        " 'condominio',\n",
        " 'iptu',\n",
        " 'Zona Central',\n",
        " 'Zona Norte',\n",
        " 'Zona Oeste',\n",
        " 'Zona Sul']\n",
        "\n",
        "# Armazenar o valores da variável x, na coluna com nome de 'features'\n",
        "assembler = VectorAssembler(inputCols = x, outputCol = 'features')"
      ],
      "metadata": {
        "id": "ui7ax-O3ran9"
      },
      "execution_count": null,
      "outputs": []
    },
    {
      "cell_type": "code",
      "source": [
        "df = assembler.transform(dados).select('features', 'label')\n",
        "df.show(10, truncate=False)"
      ],
      "metadata": {
        "colab": {
          "base_uri": "https://localhost:8080/"
        },
        "id": "S5A__1oxsQTc",
        "outputId": "08ac2cf4-43c9-4c18-9537-f04725b8e5e0"
      },
      "execution_count": null,
      "outputs": [
        {
          "output_type": "stream",
          "name": "stdout",
          "text": [
            "+----------------------------------------------------+-------+\n",
            "|features                                            |label  |\n",
            "+----------------------------------------------------+-------+\n",
            "|[3.0,43.0,1.0,2.0,0.0,1.0,245.0,0.0,0.0,1.0,0.0,0.0]|15000.0|\n",
            "|[3.0,43.0,1.0,2.0,0.0,1.0,245.0,0.0,0.0,0.0,1.0,0.0]|15000.0|\n",
            "|[3.0,43.0,1.0,2.0,0.0,1.0,245.0,0.0,1.0,0.0,0.0,0.0]|15000.0|\n",
            "|[3.0,43.0,1.0,2.0,0.0,1.0,245.0,0.0,0.0,0.0,0.0,1.0]|15000.0|\n",
            "|(12,[0,1,2,3,5,9],[2.0,42.0,1.0,2.0,1.0,1.0])       |15000.0|\n",
            "|(12,[0,1,2,3,5,10],[2.0,42.0,1.0,2.0,1.0,1.0])      |15000.0|\n",
            "|(12,[0,1,2,3,5,8],[2.0,42.0,1.0,2.0,1.0,1.0])       |15000.0|\n",
            "|(12,[0,1,2,3,5,11],[2.0,42.0,1.0,2.0,1.0,1.0])      |15000.0|\n",
            "|(12,[0,1,2,3,5,9],[1.0,41.0,1.0,2.0,1.0,1.0])       |20000.0|\n",
            "|(12,[0,1,2,3,5,10],[1.0,41.0,1.0,2.0,1.0,1.0])      |20000.0|\n",
            "+----------------------------------------------------+-------+\n",
            "only showing top 10 rows\n",
            "\n"
          ]
        }
      ]
    },
    {
      "cell_type": "markdown",
      "source": [
        "**Variáveis com correlação**"
      ],
      "metadata": {
        "id": "CClq6wxc3I4z"
      }
    },
    {
      "cell_type": "code",
      "source": [
        "from pyspark.ml.stat import Correlation\n",
        "import pandas as pd\n",
        "import matplotlib.pyplot as plt\n",
        "import seaborn as sns\n",
        "\n",
        "correlacao = Correlation.corr(df, 'features').collect()[0][0]\n",
        "correlacao"
      ],
      "metadata": {
        "colab": {
          "base_uri": "https://localhost:8080/"
        },
        "id": "fXmUIGDp29pk",
        "outputId": "c777d8c7-f429-4b1a-e512-eb8891fd0825"
      },
      "execution_count": null,
      "outputs": [
        {
          "output_type": "execute_result",
          "data": {
            "text/plain": [
              "DenseMatrix(12, 12, [1.0, 0.0209, 0.0179, 0.0107, 0.0246, 0.0185, 0.0066, 0.0004, ..., 0.0, 0.0, 0.0, 0.0, -0.3333, -0.3333, -0.3333, 1.0], False)"
            ]
          },
          "metadata": {},
          "execution_count": 73
        }
      ]
    },
    {
      "cell_type": "code",
      "source": [
        "cor = pd.DataFrame(correlacao.toArray(), columns=x, index=x)\n",
        "# gráfico\n",
        "plt.figure(figsize=(12,10))\n",
        "paleta = sns.color_palette(\"ch:s=.25,rot=-.25\", as_cmap=True)\n",
        "sns.heatmap(cor.round(1), annot=True, cmap=paleta)"
      ],
      "metadata": {
        "colab": {
          "base_uri": "https://localhost:8080/",
          "height": 667
        },
        "id": "BZYyQ3TR3RGl",
        "outputId": "e359fb01-08dc-4734-ea89-fa3df11e06fd"
      },
      "execution_count": null,
      "outputs": [
        {
          "output_type": "execute_result",
          "data": {
            "text/plain": [
              "<AxesSubplot:>"
            ]
          },
          "metadata": {},
          "execution_count": 75
        },
        {
          "output_type": "display_data",
          "data": {
            "text/plain": [
              "<Figure size 864x720 with 2 Axes>"
            ],
            "image/png": "[encoded data removed]"
          },
          "metadata": {
            "needs_background": "light"
          }
        }
      ]
    },
    {
      "cell_type": "markdown",
      "source": [
        "### **<font color=green>REGRESSÃO LINEAR**"
      ],
      "metadata": {
        "id": "Pwc8tzd8w8lm"
      }
    },
    {
      "cell_type": "code",
      "source": [
        "from pyspark.ml.regression import LinearRegression"
      ],
      "metadata": {
        "id": "g7oPxO0xuDRn"
      },
      "execution_count": null,
      "outputs": []
    },
    {
      "cell_type": "code",
      "source": [
        "treino, teste = df.randomSplit([0.7, 0.3], seed=101)"
      ],
      "metadata": {
        "id": "cCit5e0DxHZD"
      },
      "execution_count": null,
      "outputs": []
    },
    {
      "cell_type": "markdown",
      "source": [
        "**Quantidade de dados separados por variável**"
      ],
      "metadata": {
        "id": "zwBCBJt9bsnl"
      }
    },
    {
      "cell_type": "code",
      "source": [
        "print('Treino',treino.count())\n",
        "print('Teste',teste.count())"
      ],
      "metadata": {
        "colab": {
          "base_uri": "https://localhost:8080/"
        },
        "id": "ykqhWZchxMaj",
        "outputId": "b3f34066-b7b8-4de7-aa17-09e5b567ad02"
      },
      "execution_count": null,
      "outputs": [
        {
          "output_type": "stream",
          "name": "stdout",
          "text": [
            "Treino 184898\n",
            "Teste 79430\n"
          ]
        }
      ]
    },
    {
      "cell_type": "code",
      "source": [
        "# Armazenar o modelo\n",
        "LR = LinearRegression(maxIter=10, featuresCol='features',labelCol='label')\n",
        "# Treinar usando o modelo\n",
        "modelo_LR = LR.fit(df)\n",
        "# Previsão da variável treinada\n",
        "previsoes_lr_treino = modelo_LR.transform(df)\n",
        "previsoes_lr_treino.show()"
      ],
      "metadata": {
        "colab": {
          "base_uri": "https://localhost:8080/"
        },
        "id": "_bkqKsslxVmT",
        "outputId": "271eb2bf-de1d-4737-9c18-858833a55058"
      },
      "execution_count": null,
      "outputs": [
        {
          "output_type": "stream",
          "name": "stdout",
          "text": [
            "+--------------------+-------+------------------+\n",
            "|            features|  label|        prediction|\n",
            "+--------------------+-------+------------------+\n",
            "|[3.0,43.0,1.0,2.0...|15000.0|231085.22055076167|\n",
            "|[3.0,43.0,1.0,2.0...|15000.0|231085.22055076167|\n",
            "|[3.0,43.0,1.0,2.0...|15000.0|231085.22055076162|\n",
            "|[3.0,43.0,1.0,2.0...|15000.0|231085.22055076162|\n",
            "|(12,[0,1,2,3,5,9]...|15000.0| 220619.6007065266|\n",
            "|(12,[0,1,2,3,5,10...|15000.0| 220619.6007065266|\n",
            "|(12,[0,1,2,3,5,8]...|15000.0| 220619.6007065266|\n",
            "|(12,[0,1,2,3,5,11...|15000.0| 220619.6007065266|\n",
            "|(12,[0,1,2,3,5,9]...|20000.0|210199.86910811742|\n",
            "|(12,[0,1,2,3,5,10...|20000.0|210199.86910811742|\n",
            "|(12,[0,1,2,3,5,8]...|20000.0|210199.86910811742|\n",
            "|(12,[0,1,2,3,5,11...|20000.0|210199.86910811742|\n",
            "|(12,[0,1,2,3,6,9]...|20000.0| 211286.0833353288|\n",
            "|(12,[0,1,2,3,6,10...|20000.0| 211286.0833353288|\n",
            "|(12,[0,1,2,3,6,8]...|20000.0| 211286.0833353288|\n",
            "|(12,[0,1,2,3,6,11...|20000.0| 211286.0833353288|\n",
            "|[2.0,43.0,1.0,2.0...|15000.0|231294.95949583943|\n",
            "|[2.0,43.0,1.0,2.0...|15000.0|231294.95949583943|\n",
            "|[2.0,43.0,1.0,2.0...|15000.0|231294.95949583943|\n",
            "|[2.0,43.0,1.0,2.0...|15000.0|231294.95949583937|\n",
            "+--------------------+-------+------------------+\n",
            "only showing top 20 rows\n",
            "\n"
          ]
        }
      ]
    },
    {
      "cell_type": "markdown",
      "source": [
        "### **Métricas**\n",
        "\n",
        "1. **R2** = O quanto o modelo está ajustado aos dados\n",
        "\n",
        "2. **RMSE** = erro médio elevado ao quadrado e tirar a raiz, avalia os erros"
      ],
      "metadata": {
        "id": "O3jlHs9ByTX2"
      }
    },
    {
      "cell_type": "markdown",
      "source": [
        "**Resumo de treino**"
      ],
      "metadata": {
        "id": "r3RLdEkIyyZN"
      }
    },
    {
      "cell_type": "code",
      "source": [
        "# Por se tratar de uma porcentagem, seu valor varia de 0 a 1.\n",
        "resumo_treino = modelo_LR.summary \n",
        "resumo_treino.r2 "
      ],
      "metadata": {
        "colab": {
          "base_uri": "https://localhost:8080/"
        },
        "id": "zFTg7Lobx2my",
        "outputId": "5acc7d1e-d09c-421a-c56d-b2d7d9465a02"
      },
      "execution_count": null,
      "outputs": [
        {
          "output_type": "execute_result",
          "data": {
            "text/plain": [
              "0.5954934783286314"
            ]
          },
          "metadata": {},
          "execution_count": 28
        }
      ]
    },
    {
      "cell_type": "code",
      "source": [
        "# 930898 erros (quanto menor melhor)\n",
        "resumo_treino.rootMeanSquaredError  "
      ],
      "metadata": {
        "colab": {
          "base_uri": "https://localhost:8080/"
        },
        "id": "6MWqo6h4ynmz",
        "outputId": "71adb5be-2565-46b5-cae7-7edb3774982f"
      },
      "execution_count": null,
      "outputs": [
        {
          "output_type": "execute_result",
          "data": {
            "text/plain": [
              "933632.1455509542"
            ]
          },
          "metadata": {},
          "execution_count": 29
        }
      ]
    },
    {
      "cell_type": "markdown",
      "source": [
        "**Score de teste**"
      ],
      "metadata": {
        "id": "ip-gTO7Jy_W0"
      }
    },
    {
      "cell_type": "code",
      "source": [
        "# 59% ajustado aos dados (igual ao treino)\n",
        "resumo_teste = modelo_LR.evaluate(teste) \n",
        "resumo_teste.r2 "
      ],
      "metadata": {
        "colab": {
          "base_uri": "https://localhost:8080/"
        },
        "id": "_qBB-sJiyqs7",
        "outputId": "ae44b4b6-23bd-43ee-b848-dd6ea04d9d11"
      },
      "execution_count": null,
      "outputs": [
        {
          "output_type": "execute_result",
          "data": {
            "text/plain": [
              "0.5943145718610775"
            ]
          },
          "metadata": {},
          "execution_count": 30
        }
      ]
    },
    {
      "cell_type": "code",
      "source": [
        "# 940035 erros (quanto menor melhor)\n",
        "resumo_teste.rootMeanSquaredError"
      ],
      "metadata": {
        "colab": {
          "base_uri": "https://localhost:8080/"
        },
        "id": "o8jiptYlyts7",
        "outputId": "f25d2708-f7f4-47c9-d033-14dae9555f90"
      },
      "execution_count": null,
      "outputs": [
        {
          "output_type": "execute_result",
          "data": {
            "text/plain": [
              "939917.0101526742"
            ]
          },
          "metadata": {},
          "execution_count": 31
        }
      ]
    },
    {
      "cell_type": "markdown",
      "source": [
        "**Resumo do modelo**"
      ],
      "metadata": {
        "id": "_qYDpHJKbgEM"
      }
    },
    {
      "cell_type": "code",
      "source": [
        "print('Linear Regression')\n",
        "print('=' * 30)\n",
        "print('Dados de Treino')\n",
        "print('=' * 30)\n",
        "print('R²: %f' % resumo_treino.r2)\n",
        "print('RMSE: %f' % resumo_treino.rootMeanSquaredError)\n",
        "print('='*30)\n",
        "print('Dados de Teste')\n",
        "print('=' * 30)\n",
        "print('R²: %f' % resumo_teste.r2)\n",
        "print('RMSE: %f' % resumo_teste.rootMeanSquaredError)"
      ],
      "metadata": {
        "colab": {
          "base_uri": "https://localhost:8080/"
        },
        "id": "i5rPvWtTaCCt",
        "outputId": "d668f40d-47b3-4c04-f478-e6b21ede15d4"
      },
      "execution_count": null,
      "outputs": [
        {
          "output_type": "stream",
          "name": "stdout",
          "text": [
            "Linear Regression\n",
            "==============================\n",
            "Dados de Treino\n",
            "==============================\n",
            "R²: 0.595493\n",
            "RMSE: 933632.145551\n",
            "==============================\n",
            "Dados de Teste\n",
            "==============================\n",
            "R²: 0.594315\n",
            "RMSE: 939917.010153\n"
          ]
        }
      ]
    },
    {
      "cell_type": "markdown",
      "source": [
        "### **<font color=blue>Árvore de Decisão**"
      ],
      "metadata": {
        "id": "AStTX4QAQBiU"
      }
    },
    {
      "cell_type": "code",
      "source": [
        "from pyspark.ml.regression import DecisionTreeRegressor"
      ],
      "metadata": {
        "id": "ahGFFJGDXJDy"
      },
      "execution_count": null,
      "outputs": []
    },
    {
      "cell_type": "code",
      "source": [
        "DTR = DecisionTreeRegressor(seed=101, maxDepth=7)\n",
        "modelo_dtr = DTR.fit(treino)\n",
        "previsoes_dtr_treino = modelo_dtr.transform(treino)\n",
        "previsoes_dtr_treino.show()"
      ],
      "metadata": {
        "colab": {
          "base_uri": "https://localhost:8080/"
        },
        "id": "_O2Yke7qYzeG",
        "outputId": "7db9fb11-f152-45e5-810b-9902a0d4832b"
      },
      "execution_count": null,
      "outputs": [
        {
          "output_type": "stream",
          "name": "stdout",
          "text": [
            "+--------------------+---------+------------------+\n",
            "|            features|    label|        prediction|\n",
            "+--------------------+---------+------------------+\n",
            "|(12,[0,1,2,3,4,8]...| 610000.0| 679194.7414634146|\n",
            "|(12,[0,1,2,3,4,8]...| 791174.0| 679194.7414634146|\n",
            "|(12,[0,1,2,3,4,8]...| 199000.0| 411945.5074751699|\n",
            "|(12,[0,1,2,3,4,8]...| 434778.0| 411945.5074751699|\n",
            "|(12,[0,1,2,3,4,8]...| 560000.0| 679194.7414634146|\n",
            "|(12,[0,1,2,3,4,8]...|  73154.0|1918297.2857142857|\n",
            "|(12,[0,1,2,3,4,8]...|1670000.0|1316642.0057673822|\n",
            "|(12,[0,1,2,3,4,8]...|1860395.0|1643968.9492789656|\n",
            "|(12,[0,1,2,3,4,8]...|7099000.0| 5637132.365062761|\n",
            "|(12,[0,1,2,3,4,8]...| 425000.0| 679194.7414634146|\n",
            "|(12,[0,1,2,3,4,8]...| 300000.0|  926410.483667409|\n",
            "|(12,[0,1,2,3,4,8]...| 282000.0|1911723.9504286246|\n",
            "|(12,[0,1,2,3,4,8]...|1200000.0|1316642.0057673822|\n",
            "|(12,[0,1,2,3,4,8]...| 249000.0| 411945.5074751699|\n",
            "|(12,[0,1,2,3,4,8]...| 750000.0|  926410.483667409|\n",
            "|(12,[0,1,2,3,4,8]...| 400000.0|1316642.0057673822|\n",
            "|(12,[0,1,2,3,4,8]...| 290000.0| 679194.7414634146|\n",
            "|(12,[0,1,2,3,4,8]...|2300000.0| 2794892.797349961|\n",
            "|(12,[0,1,2,3,4,8]...|1460000.0|1643968.9492789656|\n",
            "|(12,[0,1,2,3,4,8]...|4300000.0| 5637132.365062761|\n",
            "+--------------------+---------+------------------+\n",
            "only showing top 20 rows\n",
            "\n"
          ]
        }
      ]
    },
    {
      "cell_type": "markdown",
      "source": [
        "**Score do modelo**"
      ],
      "metadata": {
        "id": "hLKXU3hdbamc"
      }
    },
    {
      "cell_type": "code",
      "source": [
        "from pyspark.ml.evaluation import RegressionEvaluator\n",
        "\n",
        "evaluator = RegressionEvaluator()\n",
        "\n",
        "# 76% ajustado aos dados (igual ao treino)\n",
        "print(evaluator.evaluate(previsoes_dtr_treino, {evaluator.metricName: 'r2'}))\n",
        "# Quanto menor melhor\n",
        "print(evaluator.evaluate(previsoes_dtr_treino, {evaluator.metricName: 'rmse'}))"
      ],
      "metadata": {
        "colab": {
          "base_uri": "https://localhost:8080/"
        },
        "id": "ZEw5HKyuZF9y",
        "outputId": "773308d0-76c5-49b9-9c3c-037ac91019f8"
      },
      "execution_count": null,
      "outputs": [
        {
          "output_type": "stream",
          "name": "stdout",
          "text": [
            "0.7609461393779278\n",
            "716098.1201928913\n"
          ]
        }
      ]
    },
    {
      "cell_type": "markdown",
      "source": [
        "**Previsões do modelo**"
      ],
      "metadata": {
        "id": "0o840i87bVUU"
      }
    },
    {
      "cell_type": "code",
      "source": [
        "previsoes_dtr_teste = modelo_dtr.transform(teste)\n",
        "previsoes_dtr_teste.show()"
      ],
      "metadata": {
        "colab": {
          "base_uri": "https://localhost:8080/"
        },
        "id": "cvI3T7jBZZFR",
        "outputId": "efb88acd-b096-45bc-efbb-b13973b65c26"
      },
      "execution_count": null,
      "outputs": [
        {
          "output_type": "stream",
          "name": "stdout",
          "text": [
            "+--------------------+---------+------------------+\n",
            "|            features|    label|        prediction|\n",
            "+--------------------+---------+------------------+\n",
            "|(12,[0,1,2,3,4,8]...|1150000.0|  926410.483667409|\n",
            "|(12,[0,1,2,3,4,8]...| 250000.0|  926410.483667409|\n",
            "|(12,[0,1,2,3,4,8]...| 185000.0| 411945.5074751699|\n",
            "|(12,[0,1,2,3,4,8]...| 850000.0|  926410.483667409|\n",
            "|(12,[0,1,2,3,4,8]...| 290000.0|  926410.483667409|\n",
            "|(12,[0,1,2,3,4,8]...| 949000.0|  926410.483667409|\n",
            "|(12,[0,1,2,3,4,8]...| 265000.0| 679194.7414634146|\n",
            "|(12,[0,1,2,3,4,8]...|1564938.0| 2794892.797349961|\n",
            "|(12,[0,1,2,3,4,9]...| 434778.0| 411945.5074751699|\n",
            "|(12,[0,1,2,3,4,9]...| 250000.0|  926410.483667409|\n",
            "|(12,[0,1,2,3,4,9]...| 560000.0| 679194.7414634146|\n",
            "|(12,[0,1,2,3,4,9]...| 300000.0|  926410.483667409|\n",
            "|(12,[0,1,2,3,4,9]...| 249000.0| 411945.5074751699|\n",
            "|(12,[0,1,2,3,4,9]...| 949000.0|  926410.483667409|\n",
            "|(12,[0,1,2,3,4,9]...| 400000.0|1316642.0057673822|\n",
            "|(12,[0,1,2,3,4,9]...| 265000.0| 679194.7414634146|\n",
            "|(12,[0,1,2,3,4,9]...|1460000.0|1643968.9492789656|\n",
            "|(12,[0,1,2,3,4,9]...| 310900.0| 411945.5074751699|\n",
            "|(12,[0,1,2,3,4,10...| 791174.0| 679194.7414634146|\n",
            "|(12,[0,1,2,3,4,10...| 434778.0| 411945.5074751699|\n",
            "+--------------------+---------+------------------+\n",
            "only showing top 20 rows\n",
            "\n"
          ]
        }
      ]
    },
    {
      "cell_type": "markdown",
      "source": [
        "**Tabela de resumo**"
      ],
      "metadata": {
        "id": "P6GjBhaFZ4Iu"
      }
    },
    {
      "cell_type": "code",
      "source": [
        "print('Decisão Tree Regression')\n",
        "print('=' * 30)\n",
        "print('Dados de Treino')\n",
        "print('=' * 30)\n",
        "print('R²: %f' % evaluator.evaluate(previsoes_dtr_treino, {evaluator.metricName: 'r2'}))\n",
        "print('RMSE: %f' % evaluator.evaluate(previsoes_dtr_treino, {evaluator.metricName: 'rmse'}))\n",
        "print('='*30)\n",
        "print('Dados de Teste')\n",
        "print('=' * 30)\n",
        "print('R²: %f' % evaluator.evaluate(previsoes_dtr_teste, {evaluator.metricName: 'r2'}))\n",
        "print('RMSE: %f' % evaluator.evaluate(previsoes_dtr_teste, {evaluator.metricName: 'rmse'}))"
      ],
      "metadata": {
        "colab": {
          "base_uri": "https://localhost:8080/"
        },
        "id": "zSUgmL96Zs10",
        "outputId": "5a59cd09-2eaf-4abe-de4e-a8d95a3b846f"
      },
      "execution_count": null,
      "outputs": [
        {
          "output_type": "stream",
          "name": "stdout",
          "text": [
            "Decisão Tree Regression\n",
            "==============================\n",
            "Dados de Treino\n",
            "==============================\n",
            "R²: 0.760946\n",
            "RMSE: 716098.120193\n",
            "==============================\n",
            "Dados de Teste\n",
            "==============================\n",
            "R²: 0.751286\n",
            "RMSE: 735944.148880\n"
          ]
        }
      ]
    },
    {
      "cell_type": "markdown",
      "source": [
        "### **<font color=red>Random Forest**"
      ],
      "metadata": {
        "id": "7v_NDikgaK1L"
      }
    },
    {
      "cell_type": "code",
      "source": [
        "from pyspark.ml.regression import RandomForestRegressor\n",
        "\n",
        "RFR = RandomForestRegressor(seed=101, maxDepth=7, numTrees=10)\n",
        "modelo_rfr = RFR.fit(treino)"
      ],
      "metadata": {
        "id": "P6VEsKzUZ28D"
      },
      "execution_count": null,
      "outputs": []
    },
    {
      "cell_type": "code",
      "source": [
        "previsoes_rfr_treino = modelo_rfr.transform(treino)\n",
        "previsoes_rfr_treino.show()"
      ],
      "metadata": {
        "colab": {
          "base_uri": "https://localhost:8080/"
        },
        "id": "ROhYlaPiaYK0",
        "outputId": "94142acf-8f48-4ed4-d44c-c443052003a4"
      },
      "execution_count": null,
      "outputs": [
        {
          "output_type": "stream",
          "name": "stdout",
          "text": [
            "+--------------------+---------+------------------+\n",
            "|            features|    label|        prediction|\n",
            "+--------------------+---------+------------------+\n",
            "|(12,[0,1,2,3,4,8]...| 610000.0| 533740.9126258596|\n",
            "|(12,[0,1,2,3,4,8]...| 791174.0| 533740.9126258596|\n",
            "|(12,[0,1,2,3,4,8]...| 199000.0| 615571.8497517814|\n",
            "|(12,[0,1,2,3,4,8]...| 434778.0|513833.45598946576|\n",
            "|(12,[0,1,2,3,4,8]...| 560000.0| 533740.9126258596|\n",
            "|(12,[0,1,2,3,4,8]...|  73154.0| 921323.6382351469|\n",
            "|(12,[0,1,2,3,4,8]...|1670000.0|1197302.7101476733|\n",
            "|(12,[0,1,2,3,4,8]...|1860395.0|1484847.5695317043|\n",
            "|(12,[0,1,2,3,4,8]...|7099000.0| 5802133.455435687|\n",
            "|(12,[0,1,2,3,4,8]...| 425000.0|  522088.067852648|\n",
            "|(12,[0,1,2,3,4,8]...| 300000.0| 959507.9756566305|\n",
            "|(12,[0,1,2,3,4,8]...| 282000.0| 1276547.569898319|\n",
            "|(12,[0,1,2,3,4,8]...|1200000.0| 1023354.709238882|\n",
            "|(12,[0,1,2,3,4,8]...| 249000.0| 531395.4992331776|\n",
            "|(12,[0,1,2,3,4,8]...| 750000.0| 705331.8840351317|\n",
            "|(12,[0,1,2,3,4,8]...| 400000.0|  1158092.73412177|\n",
            "|(12,[0,1,2,3,4,8]...| 290000.0|  522088.067852648|\n",
            "|(12,[0,1,2,3,4,8]...|2300000.0| 1984148.692147176|\n",
            "|(12,[0,1,2,3,4,8]...|1460000.0| 1507129.612504342|\n",
            "|(12,[0,1,2,3,4,8]...|4300000.0| 5714719.999246148|\n",
            "+--------------------+---------+------------------+\n",
            "only showing top 20 rows\n",
            "\n"
          ]
        }
      ]
    },
    {
      "cell_type": "markdown",
      "source": [
        "**Score de treino**"
      ],
      "metadata": {
        "id": "21u-Hhn5a4T0"
      }
    },
    {
      "cell_type": "code",
      "source": [
        "print(evaluator.evaluate(previsoes_rfr_treino, {evaluator.metricName: 'r2'}))\n",
        "print(evaluator.evaluate(previsoes_rfr_treino, {evaluator.metricName: 'rmse'}))"
      ],
      "metadata": {
        "colab": {
          "base_uri": "https://localhost:8080/"
        },
        "id": "H2_wz5DXaSvK",
        "outputId": "49a0f5b3-52c7-4010-830c-3e4ffd3fc34a"
      },
      "execution_count": null,
      "outputs": [
        {
          "output_type": "stream",
          "name": "stdout",
          "text": [
            "0.7566596450615625\n",
            "722489.8020195218\n"
          ]
        }
      ]
    },
    {
      "cell_type": "markdown",
      "source": [
        "**Score para teste**"
      ],
      "metadata": {
        "id": "Q6PJQQDQa2Du"
      }
    },
    {
      "cell_type": "code",
      "source": [
        "previsoes_rfr_teste = modelo_rfr.transform(teste)\n",
        "previsoes_rfr_teste.show()"
      ],
      "metadata": {
        "colab": {
          "base_uri": "https://localhost:8080/"
        },
        "id": "805WS_F9agfd",
        "outputId": "d89a7322-40b0-4864-c223-f3ca7e1302e2"
      },
      "execution_count": null,
      "outputs": [
        {
          "output_type": "stream",
          "name": "stdout",
          "text": [
            "+--------------------+---------+------------------+\n",
            "|            features|    label|        prediction|\n",
            "+--------------------+---------+------------------+\n",
            "|(12,[0,1,2,3,4,8]...|1150000.0| 710290.1961076874|\n",
            "|(12,[0,1,2,3,4,8]...| 250000.0| 710290.1961076874|\n",
            "|(12,[0,1,2,3,4,8]...| 185000.0| 598107.6083442919|\n",
            "|(12,[0,1,2,3,4,8]...| 850000.0| 705331.8840351317|\n",
            "|(12,[0,1,2,3,4,8]...| 290000.0| 705331.8840351317|\n",
            "|(12,[0,1,2,3,4,8]...| 949000.0| 959507.9756566305|\n",
            "|(12,[0,1,2,3,4,8]...| 265000.0|  522088.067852648|\n",
            "|(12,[0,1,2,3,4,8]...|1564938.0| 1889515.518712048|\n",
            "|(12,[0,1,2,3,4,9]...| 434778.0|513833.45598946576|\n",
            "|(12,[0,1,2,3,4,9]...| 250000.0| 710290.1961076874|\n",
            "|(12,[0,1,2,3,4,9]...| 560000.0| 533740.9126258596|\n",
            "|(12,[0,1,2,3,4,9]...| 300000.0| 959507.9756566305|\n",
            "|(12,[0,1,2,3,4,9]...| 249000.0| 531395.4992331776|\n",
            "|(12,[0,1,2,3,4,9]...| 949000.0| 959507.9756566305|\n",
            "|(12,[0,1,2,3,4,9]...| 400000.0|  1158092.73412177|\n",
            "|(12,[0,1,2,3,4,9]...| 265000.0|  522088.067852648|\n",
            "|(12,[0,1,2,3,4,9]...|1460000.0| 1507129.612504342|\n",
            "|(12,[0,1,2,3,4,9]...| 310900.0|508875.14391691005|\n",
            "|(12,[0,1,2,3,4,10...| 791174.0| 533740.9126258596|\n",
            "|(12,[0,1,2,3,4,10...| 434778.0|513833.45598946576|\n",
            "+--------------------+---------+------------------+\n",
            "only showing top 20 rows\n",
            "\n"
          ]
        }
      ]
    },
    {
      "cell_type": "markdown",
      "source": [
        "**Tabela de resumo**"
      ],
      "metadata": {
        "id": "kz_M7R13a-p8"
      }
    },
    {
      "cell_type": "code",
      "source": [
        "print('Random Forest Regression')\n",
        "print('=' * 30)\n",
        "print('Dados de Treino')\n",
        "print('=' * 30)\n",
        "print('R²: %f' % evaluator.evaluate(previsoes_rfr_treino, {evaluator.metricName: 'r2'}))\n",
        "print('RMSE: %f' % evaluator.evaluate(previsoes_rfr_treino, {evaluator.metricName: 'rmse'}))\n",
        "print('='*30)\n",
        "print('Dados de Teste')\n",
        "print('=' * 30)\n",
        "print('R²: %f' % evaluator.evaluate(previsoes_rfr_teste, {evaluator.metricName: 'r2'}))\n",
        "print('RMSE: %f' % evaluator.evaluate(previsoes_rfr_teste, {evaluator.metricName: 'rmse'}))"
      ],
      "metadata": {
        "colab": {
          "base_uri": "https://localhost:8080/"
        },
        "id": "Xmoc1DnZa1d5",
        "outputId": "42594fe4-36a5-4646-a92e-4202cdef4f55"
      },
      "execution_count": null,
      "outputs": [
        {
          "output_type": "stream",
          "name": "stdout",
          "text": [
            "Random Forest Regression\n",
            "==============================\n",
            "Dados de Treino\n",
            "==============================\n",
            "R²: 0.756660\n",
            "RMSE: 722489.802020\n",
            "==============================\n",
            "Dados de Teste\n",
            "==============================\n",
            "R²: 0.748420\n",
            "RMSE: 740172.220825\n"
          ]
        }
      ]
    },
    {
      "cell_type": "markdown",
      "source": [
        "### **<font color=navy>Cross Validation**"
      ],
      "metadata": {
        "id": "TNgQA_Y7b0i8"
      }
    },
    {
      "cell_type": "code",
      "source": [
        "from pyspark.ml.regression import DecisionTreeRegressor\n",
        "from pyspark.ml.tuning import CrossValidator, ParamGridBuilder\n",
        "from pyspark.ml.evaluation import RegressionEvaluator"
      ],
      "metadata": {
        "id": "qgMrzIV7a-OS"
      },
      "execution_count": null,
      "outputs": []
    },
    {
      "cell_type": "code",
      "source": [
        "# passar parâmetros\n",
        "# testando a profundidade da árvore\n",
        "# quantidade de vezes que monta os nó\n",
        "grid = ParamGridBuilder()\\\n",
        "  .addGrid(DTR.maxDepth, [2,5,10])\\\n",
        "  .addGrid(DTR.maxBins, [10,32,45])\\\n",
        "  .build()"
      ],
      "metadata": {
        "id": "GZBGsmfhb-ML"
      },
      "execution_count": null,
      "outputs": []
    },
    {
      "cell_type": "code",
      "source": [
        "# Avaliador\n",
        "evaluator = RegressionEvaluator()"
      ],
      "metadata": {
        "id": "yQW9c_gicxNq"
      },
      "execution_count": null,
      "outputs": []
    },
    {
      "cell_type": "code",
      "source": [
        "dtr_cv = CrossValidator(\n",
        "    estimator = DTR,\n",
        "    estimatorParamMaps = grid,\n",
        "    evaluator = evaluator,\n",
        "    numFolds = 3,   # numero de tentativas\n",
        "    seed = 101\n",
        ")"
      ],
      "metadata": {
        "id": "hCrH7gbdc41C"
      },
      "execution_count": null,
      "outputs": []
    },
    {
      "cell_type": "code",
      "source": [
        "modelo_dtr_cv = dtr_cv.fit(treino)"
      ],
      "metadata": {
        "id": "Ffz77MBAc8qS"
      },
      "execution_count": null,
      "outputs": []
    },
    {
      "cell_type": "code",
      "source": [
        "previsoes_dtr_cv_teste = modelo_dtr_cv.transform(teste)"
      ],
      "metadata": {
        "id": "taEYmjAfc_ZS"
      },
      "execution_count": null,
      "outputs": []
    },
    {
      "cell_type": "markdown",
      "source": [
        "**Fazendo a comparação do modelo com ou sem o validador**"
      ],
      "metadata": {
        "id": "F2DKM_MHdeao"
      }
    },
    {
      "cell_type": "code",
      "source": [
        "print('Árvore de Decisão')\n",
        "print('=' * 30)\n",
        "print('Sem Cross Validation')\n",
        "print('=' * 30)\n",
        "print('R²: %f' % evaluator.evaluate(previsoes_dtr_teste, {evaluator.metricName: 'r2'}))\n",
        "print('RMSE: %f' % evaluator.evaluate(previsoes_dtr_teste, {evaluator.metricName: 'rmse'}))\n",
        "print('='*30)\n",
        "print('Com Cross Validation')\n",
        "print('=' * 30)\n",
        "print('R²: %f' % evaluator.evaluate(previsoes_dtr_cv_teste, {evaluator.metricName: 'r2'}))\n",
        "print('RMSE: %f' % evaluator.evaluate(previsoes_dtr_cv_teste, {evaluator.metricName: 'rmse'}))"
      ],
      "metadata": {
        "colab": {
          "base_uri": "https://localhost:8080/"
        },
        "id": "B9Nkef6GdBHS",
        "outputId": "7c99f090-510d-4736-9374-9b070522fb52"
      },
      "execution_count": null,
      "outputs": [
        {
          "output_type": "stream",
          "name": "stdout",
          "text": [
            "Árvore de Decisão\n",
            "==============================\n",
            "Sem Cross Validation\n",
            "==============================\n",
            "R²: 0.751286\n",
            "RMSE: 735944.148880\n",
            "==============================\n",
            "Com Cross Validation\n",
            "==============================\n",
            "R²: 0.816913\n",
            "RMSE: 631427.295579\n"
          ]
        }
      ]
    },
    {
      "cell_type": "markdown",
      "source": [
        "## **Prever resultados**"
      ],
      "metadata": {
        "id": "F_PY8at3d_rd"
      }
    },
    {
      "cell_type": "code",
      "source": [
        "dados.show(5)"
      ],
      "metadata": {
        "colab": {
          "base_uri": "https://localhost:8080/"
        },
        "id": "ibJ9LDXKdd1i",
        "outputId": "c046bec9-1f4b-45b7-9651-c2345669352d"
      },
      "execution_count": null,
      "outputs": [
        {
          "output_type": "stream",
          "name": "stdout",
          "text": [
            "+-----+---------+---------+-------+------+----+----------+----+-------+------------+----------+----------+--------+\n",
            "|andar|area_util|banheiros|quartos|suites|vaga|condominio|iptu|  label|Zona Central|Zona Norte|Zona Oeste|Zona Sul|\n",
            "+-----+---------+---------+-------+------+----+----------+----+-------+------------+----------+----------+--------+\n",
            "|    3|     43.0|        1|      2|     0|   1|     245.0| 0.0|15000.0|           0|         1|         0|       0|\n",
            "|    3|     43.0|        1|      2|     0|   1|     245.0| 0.0|15000.0|           0|         0|         1|       0|\n",
            "|    3|     43.0|        1|      2|     0|   1|     245.0| 0.0|15000.0|           1|         0|         0|       0|\n",
            "|    3|     43.0|        1|      2|     0|   1|     245.0| 0.0|15000.0|           0|         0|         0|       1|\n",
            "|    2|     42.0|        1|      2|     0|   1|       0.0| 0.0|15000.0|           0|         1|         0|       0|\n",
            "+-----+---------+---------+-------+------+----+----------+----+-------+------------+----------+----------+--------+\n",
            "only showing top 5 rows\n",
            "\n"
          ]
        }
      ]
    },
    {
      "cell_type": "markdown",
      "source": [
        "**Visualizar as variáveis do dataset, para criar dados novos de um imóvel**"
      ],
      "metadata": {
        "id": "2qGwQWNMhQl9"
      }
    },
    {
      "cell_type": "code",
      "source": [
        "dados.columns"
      ],
      "metadata": {
        "colab": {
          "base_uri": "https://localhost:8080/"
        },
        "id": "85a_oQjWfWSB",
        "outputId": "c7b38d98-0414-489e-8fb3-1c9a489af0a4"
      },
      "execution_count": null,
      "outputs": [
        {
          "output_type": "execute_result",
          "data": {
            "text/plain": [
              "['andar',\n",
              " 'area_util',\n",
              " 'banheiros',\n",
              " 'quartos',\n",
              " 'suites',\n",
              " 'vaga',\n",
              " 'condominio',\n",
              " 'iptu',\n",
              " 'label',\n",
              " 'Zona Central',\n",
              " 'Zona Norte',\n",
              " 'Zona Oeste',\n",
              " 'Zona Sul']"
            ]
          },
          "metadata": {},
          "execution_count": 59
        }
      ]
    },
    {
      "cell_type": "code",
      "source": [
        "imovel_1 = [{\n",
        "    'andar': 2,\n",
        "    'area_util':43.0,\n",
        "    'banheiros':1,\n",
        "    'quartos':2,\n",
        "    'suites':1,\n",
        "    'vaga':1,\n",
        "    'condominio':120,\n",
        "    'iptu':0.0,\n",
        "    'label':0,\n",
        "    'Zona Central':0,\n",
        "    'Zona Norte':0,\n",
        "    'Zona Oeste':1,\n",
        "    'Zona Sul':0\n",
        "}]"
      ],
      "metadata": {
        "id": "n5OYQ-JgfdZB"
      },
      "execution_count": null,
      "outputs": []
    },
    {
      "cell_type": "markdown",
      "source": [
        "**Criar um dataframe com as características criadas**"
      ],
      "metadata": {
        "id": "bwTLJ16Kgv0u"
      }
    },
    {
      "cell_type": "code",
      "source": [
        "imovel = SP.createDataFrame(imovel_1)\n",
        "imovel.show()"
      ],
      "metadata": {
        "colab": {
          "base_uri": "https://localhost:8080/"
        },
        "id": "vfgVpWglgJHJ",
        "outputId": "613ffe2b-76ef-489c-d204-b0c5f678ce72"
      },
      "execution_count": null,
      "outputs": [
        {
          "output_type": "stream",
          "name": "stdout",
          "text": [
            "+------------+----------+----------+--------+-----+---------+---------+----------+----+-----+-------+------+----+\n",
            "|Zona Central|Zona Norte|Zona Oeste|Zona Sul|andar|area_util|banheiros|condominio|iptu|label|quartos|suites|vaga|\n",
            "+------------+----------+----------+--------+-----+---------+---------+----------+----+-----+-------+------+----+\n",
            "|           0|         0|         1|       0|    2|     43.0|        1|       120| 0.0|    0|      2|     1|   1|\n",
            "+------------+----------+----------+--------+-----+---------+---------+----------+----+-----+-------+------+----+\n",
            "\n"
          ]
        }
      ]
    },
    {
      "cell_type": "markdown",
      "source": [
        "**Visualizar as variáveis explicativas**"
      ],
      "metadata": {
        "id": "0sVW1wV5hK4M"
      }
    },
    {
      "cell_type": "code",
      "source": [
        "x"
      ],
      "metadata": {
        "colab": {
          "base_uri": "https://localhost:8080/"
        },
        "id": "PiHd9OO5gVaZ",
        "outputId": "dbf84314-23a8-468d-fe8d-78b9f7432345"
      },
      "execution_count": null,
      "outputs": [
        {
          "output_type": "execute_result",
          "data": {
            "text/plain": [
              "['andar',\n",
              " 'area_util',\n",
              " 'banheiros',\n",
              " 'quartos',\n",
              " 'suites',\n",
              " 'vaga',\n",
              " 'condominio',\n",
              " 'iptu',\n",
              " 'Zona Central',\n",
              " 'Zona Norte',\n",
              " 'Zona Oeste',\n",
              " 'Zona Sul']"
            ]
          },
          "metadata": {},
          "execution_count": 64
        }
      ]
    },
    {
      "cell_type": "markdown",
      "source": [
        "**inputCols=x (variáveis explicativas),  outputCol = 'features' (nome a receber)**"
      ],
      "metadata": {
        "id": "zt7wilnwiYFl"
      }
    },
    {
      "cell_type": "code",
      "source": [
        "assembler = VectorAssembler(inputCols=x, outputCol='features')"
      ],
      "metadata": {
        "id": "z3s3U5qLhJKR"
      },
      "execution_count": null,
      "outputs": []
    },
    {
      "cell_type": "markdown",
      "source": [
        "**valor do imovel ta '0', porque quero descobrir esse valor pela máquina**\n"
      ],
      "metadata": {
        "id": "QTxTls32ifM8"
      }
    },
    {
      "cell_type": "code",
      "source": [
        "meu_lar = assembler.transform(imovel).select('features', 'label')\n",
        "meu_lar.show()"
      ],
      "metadata": {
        "colab": {
          "base_uri": "https://localhost:8080/"
        },
        "id": "pkiKHU2pia7U",
        "outputId": "e321c367-cad1-4023-bd69-997cd14c4a18"
      },
      "execution_count": null,
      "outputs": [
        {
          "output_type": "stream",
          "name": "stdout",
          "text": [
            "+--------------------+-----+\n",
            "|            features|label|\n",
            "+--------------------+-----+\n",
            "|[2.0,43.0,1.0,2.0...|    0|\n",
            "+--------------------+-----+\n",
            "\n"
          ]
        }
      ]
    },
    {
      "cell_type": "markdown",
      "source": [
        "**Vou usar Árvore de Decisão com Cross Validation, obteve o melhor resultado do treinamento**"
      ],
      "metadata": {
        "id": "JnsVBNKGi46d"
      }
    },
    {
      "cell_type": "code",
      "source": [
        "# Valor do imóvel com estas caracteríticas, custa: R$302.591,31\n",
        "modelo_dtr_cv.transform(meu_lar).show()"
      ],
      "metadata": {
        "colab": {
          "base_uri": "https://localhost:8080/"
        },
        "id": "EGTm5QFwinnp",
        "outputId": "8ec43bae-1861-47b7-d9a8-48b2bed38fb4"
      },
      "execution_count": null,
      "outputs": [
        {
          "output_type": "stream",
          "name": "stdout",
          "text": [
            "+--------------------+-----+-----------------+\n",
            "|            features|label|       prediction|\n",
            "+--------------------+-----+-----------------+\n",
            "|[2.0,43.0,1.0,2.0...|    0|302591.3114446529|\n",
            "+--------------------+-----+-----------------+\n",
            "\n"
          ]
        }
      ]
    },
    {
      "cell_type": "code",
      "source": [],
      "metadata": {
        "id": "mE-LfX19itzx"
      },
      "execution_count": null,
      "outputs": []
    }
  ]
}